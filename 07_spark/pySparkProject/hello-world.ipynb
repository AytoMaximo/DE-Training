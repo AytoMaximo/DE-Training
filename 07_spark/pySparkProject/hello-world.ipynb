{
 "cells": [
  {
   "cell_type": "code",
   "id": "initial_id",
   "metadata": {
    "collapsed": true,
    "ExecuteTime": {
     "end_time": "2025-07-28T10:47:53.377956Z",
     "start_time": "2025-07-28T10:47:53.256492Z"
    }
   },
   "source": [
    "from pyspark.sql import SparkSession\n",
    "from pyspark.sql.functions import lit"
   ],
   "outputs": [],
   "execution_count": 1
  },
  {
   "metadata": {
    "ExecuteTime": {
     "end_time": "2025-07-28T10:48:00.312453Z",
     "start_time": "2025-07-28T10:47:53.404784Z"
    }
   },
   "cell_type": "code",
   "source": [
    "# 1. Создаем сессию Spark\n",
    "spark = SparkSession.builder \\\n",
    "    .appName(\"CSVImportAndAddition\") \\\n",
    "    .getOrCreate()"
   ],
   "id": "1c2122860186c4c6",
   "outputs": [],
   "execution_count": 2
  },
  {
   "metadata": {
    "ExecuteTime": {
     "end_time": "2025-07-28T10:48:03.267789Z",
     "start_time": "2025-07-28T10:48:00.516733Z"
    }
   },
   "cell_type": "code",
   "source": [
    "# 2. Загружаем CSV-файл\n",
    "csv_path = \"data.csv\" \n",
    "df = spark.read.option(\"header\", \"true\").option(\"inferSchema\", \"true\").csv(csv_path)"
   ],
   "id": "524ae64402ee93ee",
   "outputs": [],
   "execution_count": 3
  },
  {
   "metadata": {
    "ExecuteTime": {
     "end_time": "2025-07-28T10:48:03.328650Z",
     "start_time": "2025-07-28T10:48:03.288947Z"
    }
   },
   "cell_type": "code",
   "source": [
    "# 3. Добавляем новый столбец с суммой a + b\n",
    "df_with_sum = df.withColumn(\"sum\", df.a + df.b)"
   ],
   "id": "14bbaa721ce68b29",
   "outputs": [],
   "execution_count": 4
  },
  {
   "metadata": {
    "ExecuteTime": {
     "end_time": "2025-07-28T10:48:03.548784Z",
     "start_time": "2025-07-28T10:48:03.336748Z"
    }
   },
   "cell_type": "code",
   "source": [
    "# 5. Показываем результат\n",
    "df_with_sum.show(10)  # Показываем первые 10 строк"
   ],
   "id": "33d75c2faeb1d275",
   "outputs": [
    {
     "name": "stdout",
     "output_type": "stream",
     "text": [
      "+---+---+---+\n",
      "|  a|  b|sum|\n",
      "+---+---+---+\n",
      "|  1|  2|  3|\n",
      "|  3|  4|  7|\n",
      "|  5|  6| 11|\n",
      "|  7|  8| 15|\n",
      "|  9| 10| 19|\n",
      "| 11| 12| 23|\n",
      "| 13| 14| 27|\n",
      "| 15| 16| 31|\n",
      "| 17| 18| 35|\n",
      "| 19| 20| 39|\n",
      "+---+---+---+\n",
      "only showing top 10 rows\n"
     ]
    }
   ],
   "execution_count": 5
  },
  {
   "metadata": {
    "ExecuteTime": {
     "end_time": "2025-07-28T10:48:04.073569Z",
     "start_time": "2025-07-28T10:48:03.579299Z"
    }
   },
   "cell_type": "code",
   "source": [
    "# 6. Останавливаем Spark-сессию\n",
    "spark.stop()"
   ],
   "id": "bac4d810284edde7",
   "outputs": [],
   "execution_count": 6
  },
  {
   "metadata": {},
   "cell_type": "code",
   "outputs": [],
   "execution_count": null,
   "source": "",
   "id": "cbc99cac60eed74d"
  }
 ],
 "metadata": {
  "kernelspec": {
   "display_name": "Python 3",
   "language": "python",
   "name": "python3"
  },
  "language_info": {
   "codemirror_mode": {
    "name": "ipython",
    "version": 2
   },
   "file_extension": ".py",
   "mimetype": "text/x-python",
   "name": "python",
   "nbconvert_exporter": "python",
   "pygments_lexer": "ipython2",
   "version": "2.7.6"
  }
 },
 "nbformat": 4,
 "nbformat_minor": 5
}
