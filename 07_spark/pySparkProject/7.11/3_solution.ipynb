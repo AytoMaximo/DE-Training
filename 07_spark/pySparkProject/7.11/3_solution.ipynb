{
 "cells": [
  {
   "cell_type": "code",
   "execution_count": 1,
   "id": "initial_id",
   "metadata": {
    "ExecuteTime": {
     "end_time": "2025-07-31T08:59:38.495700Z",
     "start_time": "2025-07-31T08:59:38.420690Z"
    },
    "collapsed": true,
    "jupyter": {
     "outputs_hidden": true
    }
   },
   "outputs": [],
   "source": [
    "from pyspark.sql import SparkSession"
   ]
  },
  {
   "cell_type": "code",
   "execution_count": 2,
   "id": "e6a4753f5bc862e0",
   "metadata": {
    "ExecuteTime": {
     "end_time": "2025-07-31T08:59:48.562076Z",
     "start_time": "2025-07-31T08:59:43.653922Z"
    }
   },
   "outputs": [],
   "source": [
    "# 1. Создаем сессию Spark\n",
    "spark = SparkSession.builder \\\n",
    "    .appName(\"Dictionary\") \\\n",
    "    .getOrCreate()"
   ]
  },
  {
   "cell_type": "code",
   "execution_count": 3,
   "id": "f42b8ef86520d1fa",
   "metadata": {
    "ExecuteTime": {
     "end_time": "2025-07-31T09:00:20.622013Z",
     "start_time": "2025-07-31T09:00:20.393325Z"
    }
   },
   "outputs": [],
   "source": [
    "# 2. Загружаем данные из password.txt в RDD\n",
    "rdd = spark.sparkContext.textFile(\"Rus_dict.txt\")"
   ]
  },
  {
   "cell_type": "code",
   "execution_count": 4,
   "id": "a4c529d00a9976a1",
   "metadata": {
    "ExecuteTime": {
     "end_time": "2025-07-31T09:00:49.314124Z",
     "start_time": "2025-07-31T09:00:47.561458Z"
    }
   },
   "outputs": [
    {
     "name": "stdout",
     "output_type": "stream",
     "text": [
      "Общее количество слов в словаре: 51301\n"
     ]
    }
   ],
   "source": [
    "# 3. Посчитайте общее количество слов в словаре и выведите результат\n",
    "word_count = rdd.count()\n",
    "print(f\"Общее количество слов в словаре: {word_count}\")"
   ]
  },
  {
   "cell_type": "code",
   "execution_count": 5,
   "id": "5e51bd5ffb337685",
   "metadata": {
    "ExecuteTime": {
     "end_time": "2025-07-31T09:01:06.537558Z",
     "start_time": "2025-07-31T09:01:05.087501Z"
    }
   },
   "outputs": [
    {
     "name": "stdout",
     "output_type": "stream",
     "text": [
      "Топ-5 самых длинных слов:\n",
      "человеконенавистничество\n",
      "интернационализирование\n",
      "неусовершенствованность\n",
      "переосвидетельствование\n",
      "адмиралтейств-коллегия\n"
     ]
    }
   ],
   "source": [
    "# 4. Найдите Топ-5 самых длинных слов.\n",
    "top_5_longest_words = rdd.takeOrdered(5, key=lambda x: -len(x))\n",
    "print(\"Топ-5 самых длинных слов:\")\n",
    "for word in top_5_longest_words:\n",
    "    print(word)"
   ]
  },
  {
   "cell_type": "code",
   "execution_count": 6,
   "id": "5aef21a514cd029c",
   "metadata": {
    "ExecuteTime": {
     "end_time": "2025-07-31T09:01:20.945436Z",
     "start_time": "2025-07-31T09:01:19.552495Z"
    }
   },
   "outputs": [
    {
     "name": "stdout",
     "output_type": "stream",
     "text": [
      "Топ-5 самых коротких слов:\n",
      "ад\n",
      "аз\n",
      "аи\n",
      "ар\n",
      "ас\n"
     ]
    }
   ],
   "source": [
    "# 5. Найдите Топ-5 самых коротких слов.\n",
    "top_5_shortest_words = rdd.takeOrdered(5, key=lambda x: len(x))\n",
    "print(\"Топ-5 самых коротких слов:\")\n",
    "for word in top_5_shortest_words:\n",
    "    print(word)"
   ]
  },
  {
   "cell_type": "code",
   "execution_count": 7,
   "id": "d2d282756149e13b",
   "metadata": {
    "ExecuteTime": {
     "end_time": "2025-07-31T09:01:48.632203Z",
     "start_time": "2025-07-31T09:01:41.510775Z"
    }
   },
   "outputs": [
    {
     "name": "stdout",
     "output_type": "stream",
     "text": [
      "Количество слов по длине:\n",
      "Слов длиной 2: 54\n",
      "Слов длиной 3: 472\n",
      "Слов длиной 4: 1607\n",
      "Слов длиной 5: 3483\n",
      "Слов длиной 6: 4836\n",
      "Слов длиной 7: 6335\n",
      "Слов длиной 8: 6885\n",
      "Слов длиной 9: 6612\n",
      "Слов длиной 10: 5501\n",
      "Слов длиной 11: 4591\n",
      "Слов длиной 12: 3527\n",
      "Слов длиной 13: 2774\n",
      "Слов длиной 14: 1994\n",
      "Слов длиной 15: 1123\n",
      "Слов длиной 16: 692\n",
      "Слов длиной 17: 364\n",
      "Слов длиной 18: 227\n",
      "Слов длиной 19: 117\n",
      "Слов длиной 20: 60\n",
      "Слов длиной 21: 29\n",
      "Слов длиной 22: 14\n",
      "Слов длиной 23: 3\n",
      "Слов длиной 24: 1\n"
     ]
    }
   ],
   "source": [
    "# 6. Посчитайте, сколько слов имеют каждую конкретную длину (например, слов длиной 3: X, слов длиной 5: Y). \n",
    "# Отсортируйте результат по длине.\n",
    "length_count = rdd.map(lambda x: (len(x), 1)) \\\n",
    "    .reduceByKey(lambda a, b: a + b) \\\n",
    "    .sortByKey()\n",
    "print(\"Количество слов по длине:\")\n",
    "for length, count in length_count.collect():\n",
    "    print(f\"Слов длиной {length}: {count}\")"
   ]
  },
  {
   "cell_type": "code",
   "execution_count": 8,
   "id": "50aa902d44b99c93",
   "metadata": {
    "ExecuteTime": {
     "end_time": "2025-07-31T09:02:12.711931Z",
     "start_time": "2025-07-31T09:02:11.337498Z"
    }
   },
   "outputs": [
    {
     "name": "stdout",
     "output_type": "stream",
     "text": [
      "Самая частая длина слова: 8 (встречается 6885 раз)\n"
     ]
    }
   ],
   "source": [
    "# 7. Определите длину слова, которая встречается чаще всего\n",
    "most_common_length = length_count.reduce(lambda a, b: a if a[1] > b[1] else b)\n",
    "print(f\"Самая частая длина слова: {most_common_length[0]} (встречается {most_common_length[1]} раз)\")"
   ]
  },
  {
   "cell_type": "code",
   "execution_count": 9,
   "id": "418117c13c8e8f45",
   "metadata": {
    "ExecuteTime": {
     "end_time": "2025-07-31T09:02:28.778031Z",
     "start_time": "2025-07-31T09:02:27.350214Z"
    }
   },
   "outputs": [
    {
     "name": "stdout",
     "output_type": "stream",
     "text": [
      "Количество слов, содержащих букву 'ё': 2111\n"
     ]
    }
   ],
   "source": [
    "# 8. Посчитайте, сколько слов содержат букву 'ё'\n",
    "words_with_yo_count = rdd.filter(lambda x: 'ё' in x).count()\n",
    "print(f\"Количество слов, содержащих букву 'ё': {words_with_yo_count}\")"
   ]
  },
  {
   "cell_type": "code",
   "execution_count": 10,
   "id": "c153a30150aa661d",
   "metadata": {
    "ExecuteTime": {
     "end_time": "2025-07-31T09:02:42.647911Z",
     "start_time": "2025-07-31T09:02:41.251387Z"
    }
   },
   "outputs": [
    {
     "name": "stdout",
     "output_type": "stream",
     "text": [
      "Палиндромы:\n",
      "ага\n",
      "боб\n",
      "дед\n",
      "довод\n",
      "доход\n",
      "заказ\n",
      "кабак\n",
      "казак\n",
      "киник\n",
      "кок\n",
      "колок\n",
      "комок\n",
      "косок\n",
      "коток\n",
      "лал\n",
      "мадам\n",
      "мим\n",
      "наган\n",
      "нойон\n",
      "око\n",
      "поп\n",
      "потоп\n",
      "пуп\n",
      "радар\n",
      "репер\n",
      "ротатор\n",
      "ротор\n",
      "тат\n",
      "тет-а-тет\n",
      "топот\n",
      "тот\n",
      "тут\n",
      "ушу\n",
      "шалаш\n",
      "шиш\n"
     ]
    }
   ],
   "source": [
    "# 9. Отфильтруйте и выведите все слова, которые являются палиндромами (читаются одинаково вперед и назад, например, \"шалаш\", \"заказ\").\n",
    "palindromes = rdd.filter(lambda x: x == x[::-1]).collect()\n",
    "print(\"Палиндромы:\")\n",
    "for word in palindromes:\n",
    "    print(word)"
   ]
  }
 ],
 "metadata": {
  "kernelspec": {
   "display_name": "Python 3 (ipykernel)",
   "language": "python",
   "name": "python3"
  },
  "language_info": {
   "codemirror_mode": {
    "name": "ipython",
    "version": 3
   },
   "file_extension": ".py",
   "mimetype": "text/x-python",
   "name": "python",
   "nbconvert_exporter": "python",
   "pygments_lexer": "ipython3",
   "version": "3.11.9"
  }
 },
 "nbformat": 4,
 "nbformat_minor": 5
}
