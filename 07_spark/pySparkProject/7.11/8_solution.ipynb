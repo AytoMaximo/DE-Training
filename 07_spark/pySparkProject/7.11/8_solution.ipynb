{
 "cells": [
  {
   "cell_type": "code",
   "execution_count": 1,
   "id": "initial_id",
   "metadata": {
    "ExecuteTime": {
     "end_time": "2025-07-31T10:13:11.120106Z",
     "start_time": "2025-07-31T10:13:11.049396Z"
    },
    "collapsed": true,
    "jupyter": {
     "outputs_hidden": true
    }
   },
   "outputs": [],
   "source": [
    "from pyspark.sql import SparkSession\n",
    "from pyspark.sql import functions as F\n",
    "from pyspark.sql.types import *"
   ]
  },
  {
   "cell_type": "code",
   "execution_count": 2,
   "id": "3ed36b2094cc53a3",
   "metadata": {
    "ExecuteTime": {
     "end_time": "2025-07-31T10:13:25.453088Z",
     "start_time": "2025-07-31T10:13:20.637024Z"
    }
   },
   "outputs": [],
   "source": [
    "# 1. Создаем сессию Spark\n",
    "spark = SparkSession.builder \\\n",
    "    .appName(\"StarWars\") \\\n",
    "    .getOrCreate()"
   ]
  },
  {
   "cell_type": "code",
   "execution_count": 3,
   "id": "d990163892088025",
   "metadata": {
    "ExecuteTime": {
     "end_time": "2025-07-31T10:14:19.720761Z",
     "start_time": "2025-07-31T10:14:17.908732Z"
    }
   },
   "outputs": [],
   "source": [
    "# 2. Загружаем данные из Parquet файла\n",
    "characters = spark.read.parquet('parquet_files/characters.parquet')\n",
    "species = spark.read.parquet('parquet_files/species.parquet')\n",
    "organizations = spark.read.parquet('parquet_files/organizations.parquet')"
   ]
  },
  {
   "cell_type": "code",
   "execution_count": 6,
   "id": "99df57fef4dab12a",
   "metadata": {
    "ExecuteTime": {
     "end_time": "2025-07-31T10:14:59.690070Z",
     "start_time": "2025-07-31T10:14:59.620978Z"
    }
   },
   "outputs": [
    {
     "name": "stdout",
     "output_type": "stream",
     "text": [
      "+---+--------------+--------------+-----------+--------------+--------------------+-----------+----------+----------------+--------------+---------+\n",
      "| id|          name|classification|designation|average_height|         skin_colors|hair_colors|eye_colors|average_lifespan|      language|homeworld|\n",
      "+---+--------------+--------------+-----------+--------------+--------------------+-----------+----------+----------------+--------------+---------+\n",
      "|  1|         Human|        Mammal|   Sentient|           1.8|         Light, Dark|    Various|   Various|            79.0|Galactic Basic|  Various|\n",
      "|  2|Yoda's species|       Unknown|   Sentient|          0.66|               Green|      White|     Brown|           900.0|Galactic Basic|  Unknown|\n",
      "|  3|       Wookiee|        Mammal|   Sentient|          2.28|               Brown|      Brown|      Blue|           400.0|    Shyriiwook| Kashyyyk|\n",
      "|  4|        Gungan|     Amphibian|   Sentient|          1.96|              Orange|       None|    Orange|            70.0|        Gungan|    Naboo|\n",
      "|  5|       Twi'lek|        Mammal|   Sentient|           1.8|Blue, Green, Red,...|       None|   Various|            80.0|      Twi'leki|   Ryloth|\n",
      "+---+--------------+--------------+-----------+--------------+--------------------+-----------+----------+----------------+--------------+---------+\n",
      "only showing top 5 rows\n"
     ]
    }
   ],
   "source": [
    "# Выводим первые 5 строк таблицы species\n",
    "species.show(5)"
   ]
  },
  {
   "cell_type": "code",
   "execution_count": 7,
   "id": "9852534d8a326c4",
   "metadata": {
    "ExecuteTime": {
     "end_time": "2025-07-31T10:15:14.257082Z",
     "start_time": "2025-07-31T10:15:14.191125Z"
    }
   },
   "outputs": [
    {
     "name": "stdout",
     "output_type": "stream",
     "text": [
      "+---+--------------+--------------+------+------+------+----------+---------+----------+---------+---------+---------+--------------------+\n",
      "| id|          name|       species|gender|height|weight|hair_color|eye_color|skin_color|year_born|homeworld|year_died|         description|\n",
      "+---+--------------+--------------+------+------+------+----------+---------+----------+---------+---------+---------+--------------------+\n",
      "|  1|Luke Skywalker|         Human|  Male|  1.72|  77.0|     Blond|     Blue|     Light|     19.0| Tatooine|     34.0|The main protagon...|\n",
      "|  2|   Leia Organa|         Human|Female|   1.5|  49.0|     Brown|    Brown|     Light|     19.0| Alderaan|     35.0|A leader in the R...|\n",
      "|  3|   Darth Vader|         Human|  Male|  2.02| 136.0|      None|   Yellow|      Pale|     41.0| Tatooine|      4.0|The Sith Lord for...|\n",
      "|  4|          Yoda|Yoda's species|  Male|  0.66|  17.0|     White|    Brown|     Green|    896.0|  Unknown|      4.0|A wise and powerf...|\n",
      "|  5|      Han Solo|         Human|  Male|   1.8|  80.0|     Brown|    Hazel|     Light|     29.0| Corellia|     34.0|A smuggler turned...|\n",
      "+---+--------------+--------------+------+------+------+----------+---------+----------+---------+---------+---------+--------------------+\n",
      "only showing top 5 rows\n"
     ]
    }
   ],
   "source": [
    "# Выводим первые 5 строк таблицы characters\n",
    "characters.show(5)"
   ]
  },
  {
   "cell_type": "code",
   "execution_count": 8,
   "id": "2f66c05027c5311b",
   "metadata": {
    "ExecuteTime": {
     "end_time": "2025-07-31T10:15:20.333767Z",
     "start_time": "2025-07-31T10:15:20.275770Z"
    }
   },
   "outputs": [
    {
     "name": "stdout",
     "output_type": "stream",
     "text": [
      "+---+-----------------+-------+---------+--------------------+--------------------+-----------------+--------------------+--------------------+\n",
      "| id|             name|founded|dissolved|              leader|             members|      affiliation|         description|               films|\n",
      "+---+-----------------+-------+---------+--------------------+--------------------+-----------------+--------------------+--------------------+\n",
      "|  1|       Jedi Order| -25000|       19|    Yoda, Mace Windu|Obi-Wan Kenobi, A...|Galactic Republic|An ancient monast...|The Phantom Menac...|\n",
      "|  2|       Sith Order|  -5000|        4|       Darth Sidious|Darth Vader, Dart...|  Galactic Empire|A sect of Force-s...|The Phantom Menac...|\n",
      "|  3|  Galactic Empire|     19|        4|   Emperor Palpatine|Darth Vader, Gran...|             None|An authoritarian ...|Revenge of the Si...|\n",
      "|  4|   Rebel Alliance|     -2|        4|Mon Mothma, Leia ...|Luke Skywalker, H...|     New Republic|An alliance of in...|A New Hope, The E...|\n",
      "|  5|Galactic Republic| -25000|       19|  Supreme Chancellor|Padmé Amidala, Ba...|       Jedi Order|The democratic un...|The Phantom Menac...|\n",
      "+---+-----------------+-------+---------+--------------------+--------------------+-----------------+--------------------+--------------------+\n",
      "only showing top 5 rows\n"
     ]
    }
   ],
   "source": [
    "# Выводим первые 5 строк таблицы organizations\n",
    "organizations.show(5)"
   ]
  },
  {
   "cell_type": "code",
   "execution_count": 9,
   "id": "867e57b80da468a6",
   "metadata": {
    "ExecuteTime": {
     "end_time": "2025-07-31T10:15:29.824280Z",
     "start_time": "2025-07-31T10:15:29.809517Z"
    }
   },
   "outputs": [],
   "source": [
    "# Удаляем дубликаты \n",
    "characters = characters.dropDuplicates(subset=[\"name\", \"species\", \"homeworld\", \"year_born\"])\n",
    "species = species.dropDuplicates(subset=[\"name\",\"classification\", \"designation\", \"average_height\"])"
   ]
  },
  {
   "cell_type": "code",
   "execution_count": 10,
   "id": "dd08e08cc2892b1e",
   "metadata": {
    "ExecuteTime": {
     "end_time": "2025-07-31T10:15:34.920245Z",
     "start_time": "2025-07-31T10:15:33.793436Z"
    }
   },
   "outputs": [
    {
     "name": "stdout",
     "output_type": "stream",
     "text": [
      "+------------+---------------+\n",
      "|     species|character_count|\n",
      "+------------+---------------+\n",
      "|       Human|             47|\n",
      "|       Droid|              4|\n",
      "|     Twi'lek|              3|\n",
      "| Dathomirian|              3|\n",
      "|     Togruta|              2|\n",
      "|     Unknown|              2|\n",
      "|Mon Calamari|              2|\n",
      "|    Clawdite|              1|\n",
      "|       Chiss|              1|\n",
      "|    Besalisk|              1|\n",
      "+------------+---------------+\n",
      "\n"
     ]
    }
   ],
   "source": [
    "# Распространенность видов и их классификаций\n",
    "(characters.groupBy(\"species\")\n",
    "    .agg(F.count(\"*\").alias(\"character_count\"))\n",
    "    .orderBy(F.col(\"character_count\").desc())\n",
    "    .limit(10).show())"
   ]
  },
  {
   "cell_type": "code",
   "execution_count": 11,
   "id": "b657a5bc0407bba3",
   "metadata": {
    "ExecuteTime": {
     "end_time": "2025-07-31T10:15:38.964819Z",
     "start_time": "2025-07-31T10:15:38.241287Z"
    }
   },
   "outputs": [
    {
     "name": "stdout",
     "output_type": "stream",
     "text": [
      "+--------------+---------------------+\n",
      "|classification|total_character_count|\n",
      "+--------------+---------------------+\n",
      "|        Mammal|                   73|\n",
      "|     Amphibian|                    6|\n",
      "|     Reptilian|                    5|\n",
      "|    Artificial|                    4|\n",
      "|        Hybrid|                    3|\n",
      "|       Unknown|                    1|\n",
      "|     Insectoid|                    1|\n",
      "|     Gastropod|                    1|\n",
      "+--------------+---------------------+\n",
      "\n"
     ]
    }
   ],
   "source": [
    "# Распространенность классификаций\n",
    "(species.join(characters, species.name == characters.species, \"left\") \n",
    "    .groupBy(species.classification).agg(F.count(\"*\").alias(\"total_character_count\")) \n",
    "    .orderBy(F.col(\"total_character_count\").desc())\n",
    "    .show())"
   ]
  },
  {
   "cell_type": "code",
   "execution_count": 12,
   "id": "26a0a594a75ba52b",
   "metadata": {
    "ExecuteTime": {
     "end_time": "2025-07-31T10:15:44.891491Z",
     "start_time": "2025-07-31T10:15:44.460725Z"
    }
   },
   "outputs": [
    {
     "name": "stdout",
     "output_type": "stream",
     "text": [
      "+--------------+--------------------+\n",
      "|classification|average_height_class|\n",
      "+--------------+--------------------+\n",
      "|     Gastropod|                 3.9|\n",
      "|     Amphibian|                 1.9|\n",
      "|     Insectoid|                 1.8|\n",
      "|     Reptilian|                 1.8|\n",
      "|        Mammal|                 1.7|\n",
      "|        Hybrid|                 1.7|\n",
      "|       Unknown|                 0.7|\n",
      "|    Artificial|                NULL|\n",
      "+--------------+--------------------+\n",
      "\n"
     ]
    }
   ],
   "source": [
    "# Средний рост по классификации\n",
    "(species.groupBy(\"classification\")\n",
    "    .agg(F.round(F.avg(\"average_height\"),1).alias(\"average_height_class\"))\n",
    "    .orderBy(F.col(\"average_height_class\").desc())\n",
    "    .show())"
   ]
  },
  {
   "cell_type": "code",
   "execution_count": 13,
   "id": "4f4a60aa5e7c5f75",
   "metadata": {
    "ExecuteTime": {
     "end_time": "2025-07-31T10:15:53.073132Z",
     "start_time": "2025-07-31T10:15:52.763559Z"
    }
   },
   "outputs": [
    {
     "name": "stdout",
     "output_type": "stream",
     "text": [
      "+----------+----------------+\n",
      "|      name|     name_member|\n",
      "+----------+----------------+\n",
      "|Jedi Order|            Yoda|\n",
      "|Jedi Order|  Obi-Wan Kenobi|\n",
      "|Jedi Order|      Mace Windu|\n",
      "|Jedi Order|Anakin Skywalker|\n",
      "|Jedi Order|  Luke Skywalker|\n",
      "|Sith Order|   Darth Sidious|\n",
      "|Sith Order|     Darth Vader|\n",
      "|Sith Order|      Darth Maul|\n",
      "|Sith Order|   Darth Tyranus|\n",
      "+----------+----------------+\n",
      "\n"
     ]
    }
   ],
   "source": [
    "# Члены Ордена Джедаев и Ситхов\n",
    "# Преобразуем тип колонки\n",
    "organizations = organizations.withColumn(\n",
    "    \"leader_array\", \n",
    "    F.split(F.col(\"leader\"), \", \").cast(ArrayType(StringType()))\n",
    ")\n",
    "organizations = organizations.withColumn(\n",
    "    \"members_array\", \n",
    "    F.split(F.col(\"members\"), \", \").cast(ArrayType(StringType()))\n",
    ")\n",
    "\n",
    "members = (organizations\n",
    "           .select(\"name\", F.explode_outer(\"leader_array\").alias(\"name_member\"))\n",
    "           .filter(F.col(\"name\").isin(\"Jedi Order\", \"Sith Order\"))\n",
    "    .union\n",
    "           (organizations\n",
    "            .select(\"name\", F.explode_outer(\"members_array\").alias(\"name_member\"))\n",
    "            .filter(F.col(\"name\").isin(\"Jedi Order\", \"Sith Order\")))\n",
    "            )\n",
    "\n",
    "members.orderBy(\"name\").show()"
   ]
  },
  {
   "cell_type": "code",
   "execution_count": 14,
   "id": "3d42fff0b969141c",
   "metadata": {
    "ExecuteTime": {
     "end_time": "2025-07-31T10:15:57.933037Z",
     "start_time": "2025-07-31T10:15:57.445934Z"
    }
   },
   "outputs": [
    {
     "name": "stdout",
     "output_type": "stream",
     "text": [
      "+-----------+---------+\n",
      "|       name|year_born|\n",
      "+-----------+---------+\n",
      "|General Hux|      0.0|\n",
      "|Poe Dameron|      2.0|\n",
      "|   Kylo Ren|      5.0|\n",
      "|  Rose Tico|     11.0|\n",
      "|       Finn|     11.0|\n",
      "+-----------+---------+\n",
      "\n",
      "+--------------+---------+\n",
      "|          name|year_born|\n",
      "+--------------+---------+\n",
      "|    Maz Kanata|    973.0|\n",
      "|          Yoda|    896.0|\n",
      "|Jabba the Hutt|    600.0|\n",
      "|     Chewbacca|    200.0|\n",
      "|         C-3PO|    112.0|\n",
      "+--------------+---------+\n",
      "\n"
     ]
    }
   ],
   "source": [
    "# Топ-5 старейших и топ-5 самых юных персонажей\n",
    "(characters.select(\"name\", \"year_born\")\n",
    "    .dropna(subset=[\"year_born\"])\n",
    "    .orderBy(F.col(\"year_born\")).limit(5)\n",
    "    .show())\n",
    "(characters.select(\"name\", \"year_born\")\n",
    "    .dropna(subset=[\"year_born\"])\n",
    "    .orderBy(F.col(\"year_born\").desc()).limit(5)\n",
    "    .show())"
   ]
  },
  {
   "cell_type": "code",
   "execution_count": 15,
   "id": "37c2cfe85df97585",
   "metadata": {
    "ExecuteTime": {
     "end_time": "2025-07-31T10:16:03.443595Z",
     "start_time": "2025-07-31T10:16:02.679599Z"
    }
   },
   "outputs": [
    {
     "name": "stdout",
     "output_type": "stream",
     "text": [
      "+---+--------------+--------------+------+------+------+----------+---------+----------+---------+---------+---------+--------------------+-----+\n",
      "| id|          name|       species|gender|height|weight|hair_color|eye_color|skin_color|year_born|homeworld|year_died|         description|  bmi|\n",
      "+---+--------------+--------------+------+------+------+----------+---------+----------+---------+---------+---------+--------------------+-----+\n",
      "| 42|Jabba the Hutt|          Hutt|  Male|   3.9|1358.0|      None|   Orange|     Green|    600.0|Nal Hutta|      4.0|A notorious crime...|89.28|\n",
      "| 62|    Pong Krell|      Besalisk|  Male|   2.5| 300.0|      None|   Yellow|     Green|     52.0|     Ojom|     19.0|A Jedi Master who...| 48.0|\n",
      "|  4|          Yoda|Yoda's species|  Male|  0.66|  17.0|     White|    Brown|     Green|    896.0|  Unknown|      4.0|A wise and powerf...|39.03|\n",
      "|  3|   Darth Vader|         Human|  Male|  2.02| 136.0|      None|   Yellow|      Pale|     41.0| Tatooine|      4.0|The Sith Lord for...|33.33|\n",
      "| 50|       Sebulba|           Dug|  Male|  1.12|  40.0|      None|      Red|     Brown|     32.0|Malastare|     NULL|A pod racer with ...|31.89|\n",
      "+---+--------------+--------------+------+------+------+----------+---------+----------+---------+---------+---------+--------------------+-----+\n",
      "\n",
      "+---+-------------+-------+------+------+------+----------+---------+----------+---------+---------+---------+--------------------+-----+\n",
      "| id|         name|species|gender|height|weight|hair_color|eye_color|skin_color|year_born|homeworld|year_died|         description|  bmi|\n",
      "+---+-------------+-------+------+------+------+----------+---------+----------+---------+---------+---------+--------------------+-----+\n",
      "| 56|  Ahsoka Tano|Togruta|Female|  1.88|  55.0|      None|     Blue|    Orange|     36.0|    Shili|     NULL|A former Jedi Pad...|15.56|\n",
      "| 10|Padmé Amidala|  Human|Female|  1.65|  45.0|     Brown|    Brown|     Light|     46.0|    Naboo|     19.0|The queen-turned-...|16.53|\n",
      "| 13|Jar Jar Binks| Gungan|  Male|  1.96|  66.0|      None|   Orange|    Orange|     52.0|    Naboo|     NULL|A clumsy Gungan w...|17.18|\n",
      "| 91|        Qi'ra|  Human|Female|   1.7|  50.0|     Brown|    Brown|     Light|     21.0| Corellia|     NULL|A member of the C...| 17.3|\n",
      "| 29| Aayla Secura|Twi'lek|Female|  1.78|  55.0|      Blue|    Hazel|      Blue|     48.0|   Ryloth|     19.0|A Jedi Knight dur...|17.36|\n",
      "+---+-------------+-------+------+------+------+----------+---------+----------+---------+---------+---------+--------------------+-----+\n",
      "\n"
     ]
    }
   ],
   "source": [
    "# Расчитываем ИМТ\n",
    "bmi_characters = characters.withColumn(\"bmi\", F.round(F.col(\"weight\")/ (F.col(\"height\"))**2,2))\n",
    "bmi_characters.orderBy(F.col(\"bmi\").desc()).limit(5).show()\n",
    "bmi_characters.dropna(subset=[\"height\",\"weight\"]).orderBy(F.col(\"bmi\")).limit(5).show()"
   ]
  }
 ],
 "metadata": {
  "kernelspec": {
   "display_name": "Python 3 (ipykernel)",
   "language": "python",
   "name": "python3"
  },
  "language_info": {
   "codemirror_mode": {
    "name": "ipython",
    "version": 3
   },
   "file_extension": ".py",
   "mimetype": "text/x-python",
   "name": "python",
   "nbconvert_exporter": "python",
   "pygments_lexer": "ipython3",
   "version": "3.11.9"
  }
 },
 "nbformat": 4,
 "nbformat_minor": 5
}
