{
 "cells": [
  {
   "cell_type": "code",
   "execution_count": 1,
   "id": "initial_id",
   "metadata": {
    "ExecuteTime": {
     "end_time": "2025-07-31T08:48:20.724627Z",
     "start_time": "2025-07-31T08:48:20.651595Z"
    },
    "collapsed": true,
    "jupyter": {
     "outputs_hidden": true
    }
   },
   "outputs": [],
   "source": [
    "from pyspark.sql import SparkSession"
   ]
  },
  {
   "cell_type": "code",
   "execution_count": 2,
   "id": "98406d48ab59deb6",
   "metadata": {
    "ExecuteTime": {
     "end_time": "2025-07-31T08:48:26.627497Z",
     "start_time": "2025-07-31T08:48:20.727636Z"
    }
   },
   "outputs": [],
   "source": [
    "# 1. Создаем сессию Spark\n",
    "spark = SparkSession.builder \\\n",
    "    .appName(\"Passwords\") \\\n",
    "    .getOrCreate()"
   ]
  },
  {
   "cell_type": "code",
   "execution_count": 3,
   "id": "e89bcdf51bd1f5fa",
   "metadata": {
    "ExecuteTime": {
     "end_time": "2025-07-31T08:48:27.061229Z",
     "start_time": "2025-07-31T08:48:26.805720Z"
    }
   },
   "outputs": [],
   "source": [
    "# 2. Загружаем данные из password.txt в RDD\n",
    "rdd = spark.sparkContext.textFile(\"password.txt\")"
   ]
  },
  {
   "cell_type": "code",
   "execution_count": 4,
   "id": "be63b0f35efbf774",
   "metadata": {
    "ExecuteTime": {
     "end_time": "2025-07-31T08:48:27.088560Z",
     "start_time": "2025-07-31T08:48:27.069086Z"
    }
   },
   "outputs": [],
   "source": [
    "# 3. Почистите каждую строку от лишних пробелов и удалите пустые строки, если они есть в файле.\n",
    "cleaned_rdd = rdd.map(lambda line: line.strip()).filter(lambda line: line != \"\")"
   ]
  },
  {
   "cell_type": "code",
   "execution_count": 5,
   "id": "5448374e390be2bc",
   "metadata": {
    "ExecuteTime": {
     "end_time": "2025-07-31T08:48:28.317209Z",
     "start_time": "2025-07-31T08:48:27.105670Z"
    }
   },
   "outputs": [
    {
     "name": "stdout",
     "output_type": "stream",
     "text": [
      "91981924950\n",
      "717893869791585\n",
      "flower2020\n",
      "ikolp2024@\n",
      "=aSVka\n",
      "644147184334\n",
      "53094385899\n",
      "Silver01\n",
      "Px{S{57*Zd%VjY\n",
      "Secret2022\n"
     ]
    }
   ],
   "source": [
    "# Выводим первых 10 строк очищенного RDD\n",
    "for line in cleaned_rdd.take(10):\n",
    "    print(line)"
   ]
  },
  {
   "cell_type": "code",
   "execution_count": 6,
   "id": "363e7d1b7152c09e",
   "metadata": {
    "ExecuteTime": {
     "end_time": "2025-07-31T08:48:30.836310Z",
     "start_time": "2025-07-31T08:48:28.392071Z"
    }
   },
   "outputs": [
    {
     "name": "stdout",
     "output_type": "stream",
     "text": [
      "Средняя длина пароля: 9\n"
     ]
    }
   ],
   "source": [
    "# 4. Рассчитайте среднюю длину пароля во всем списке. Округлите до целого числа.\n",
    "average_length = cleaned_rdd.map(lambda line: len(line)).mean()\n",
    "average_length_rounded = round(average_length)\n",
    "print(f\"Средняя длина пароля: {average_length_rounded}\")"
   ]
  },
  {
   "cell_type": "code",
   "execution_count": 7,
   "id": "e92a56846795f899",
   "metadata": {
    "ExecuteTime": {
     "end_time": "2025-07-31T08:48:34.875659Z",
     "start_time": "2025-07-31T08:48:30.851470Z"
    }
   },
   "outputs": [
    {
     "name": "stdout",
     "output_type": "stream",
     "text": [
      "Минимальная длина пароля: 6\n",
      "Максимальная длина пароля: 15\n"
     ]
    }
   ],
   "source": [
    "# 5. Найдите минимальную и максимальную длину паролей.\n",
    "min_length = cleaned_rdd.map(lambda line: len(line)).min()\n",
    "max_length = cleaned_rdd.map(lambda line: len(line)).max()\n",
    "print(f\"Минимальная длина пароля: {min_length}\")\n",
    "print(f\"Максимальная длина пароля: {max_length}\")"
   ]
  },
  {
   "cell_type": "code",
   "execution_count": 8,
   "id": "212d7dec5835293f",
   "metadata": {
    "ExecuteTime": {
     "end_time": "2025-07-31T08:48:38.445793Z",
     "start_time": "2025-07-31T08:48:34.881798Z"
    }
   },
   "outputs": [
    {
     "name": "stdout",
     "output_type": "stream",
     "text": [
      "Топ-5 самых распространенных длин паролей:\n",
      "Длина: 6, Количество: 215887\n",
      "Длина: 8, Количество: 122106\n",
      "Длина: 7, Количество: 115450\n",
      "Длина: 10, Количество: 113429\n",
      "Длина: 9, Количество: 110343\n"
     ]
    }
   ],
   "source": [
    "# 6. Определите Топ-5 самых распространенных длин паролей\n",
    "top_5_lengths = (cleaned_rdd\n",
    "                 .map(lambda line: len(line))\n",
    "                 .map(lambda length: (length, 1))\n",
    "                 .reduceByKey(lambda a, b: a + b)\n",
    "                 .takeOrdered(5, key=lambda x: -x[1]))\n",
    "print(\"Топ-5 самых распространенных длин паролей:\")\n",
    "for length, count in top_5_lengths:\n",
    "    print(f\"Длина: {length}, Количество: {count}\")"
   ]
  },
  {
   "cell_type": "code",
   "execution_count": 9,
   "id": "e72398813f5954c5",
   "metadata": {
    "ExecuteTime": {
     "end_time": "2025-07-31T08:48:40.382505Z",
     "start_time": "2025-07-31T08:48:38.451831Z"
    }
   },
   "outputs": [
    {
     "name": "stdout",
     "output_type": "stream",
     "text": [
      "Количество паролей, содержащих только цифры: 441347\n"
     ]
    }
   ],
   "source": [
    "# 7. Посчитайте количество паролей, содержащих только цифры.\n",
    "digit_passwords_count = cleaned_rdd.filter(lambda line: line.isdigit()).count()\n",
    "print(f\"Количество паролей, содержащих только цифры: {digit_passwords_count}\")"
   ]
  },
  {
   "cell_type": "code",
   "execution_count": 10,
   "id": "c7d4f670896a8859",
   "metadata": {
    "ExecuteTime": {
     "end_time": "2025-07-31T08:48:42.301131Z",
     "start_time": "2025-07-31T08:48:40.389014Z"
    }
   },
   "outputs": [
    {
     "name": "stdout",
     "output_type": "stream",
     "text": [
      "Количество паролей, содержащих только буквы: 115088\n"
     ]
    }
   ],
   "source": [
    "# 8. Посчитайте количество паролей, содержащих только буквы (как строчные, так и заглавные).\n",
    "letter_passwords_count = cleaned_rdd.filter(lambda line: line.isalpha()).count()\n",
    "print(f\"Количество паролей, содержащих только буквы: {letter_passwords_count}\")"
   ]
  },
  {
   "cell_type": "code",
   "execution_count": 11,
   "id": "29f616c585208f30",
   "metadata": {
    "ExecuteTime": {
     "end_time": "2025-07-31T08:48:45.944471Z",
     "start_time": "2025-07-31T08:48:42.307570Z"
    }
   },
   "outputs": [
    {
     "name": "stdout",
     "output_type": "stream",
     "text": [
      "Топ-5 самых распространенных префиксов длиной 3 символа:\n",
      "Префикс: 123, Количество: 17857\n",
      "Префикс: qwe, Количество: 17054\n",
      "Префикс: pas, Количество: 13290\n",
      "Префикс: 654, Количество: 9925\n",
      "Префикс: edc, Количество: 9813\n"
     ]
    }
   ],
   "source": [
    "# 9. Определите Топ-5 самых распространенных префикса длиной 3 символа (например, 123, pas).\n",
    "top_5_prefixes = (cleaned_rdd\n",
    "                  .map(lambda line: line[:3])\n",
    "                  .map(lambda prefix: (prefix, 1))\n",
    "                  .reduceByKey(lambda a, b: a + b)\n",
    "                  .takeOrdered(5, key=lambda x: -x[1]))\n",
    "print(\"Топ-5 самых распространенных префиксов длиной 3 символа:\")\n",
    "for prefix, count in top_5_prefixes:\n",
    "    print(f\"Префикс: {prefix}, Количество: {count}\")"
   ]
  },
  {
   "cell_type": "code",
   "execution_count": 12,
   "id": "7b695d4f246582e9",
   "metadata": {
    "ExecuteTime": {
     "end_time": "2025-07-31T08:48:49.690587Z",
     "start_time": "2025-07-31T08:48:46.013181Z"
    }
   },
   "outputs": [
    {
     "name": "stdout",
     "output_type": "stream",
     "text": [
      "Топ-5 самых распространенных суффиксов длиной 3 символа:\n",
      "Суффикс: 123, Количество: 16135\n",
      "Суффикс: 789, Количество: 15266\n",
      "Суффикс: 020, Количество: 14636\n",
      "Суффикс: 021, Количество: 14558\n",
      "Суффикс: 022, Количество: 14552\n"
     ]
    }
   ],
   "source": [
    "# 10. Определите Топ-5 самых распространенных суффиксов длиной 3 символа (например, 678, ord).\n",
    "top_5_suffixes = (cleaned_rdd\n",
    "                  .map(lambda line: line[-3:])\n",
    "                  .map(lambda suffix: (suffix, 1))\n",
    "                  .reduceByKey(lambda a, b: a + b)\n",
    "                  .takeOrdered(5, key=lambda x: -x[1]))\n",
    "print(\"Топ-5 самых распространенных суффиксов длиной 3 символа:\")\n",
    "for suffix, count in top_5_suffixes:\n",
    "    print(f\"Суффикс: {suffix}, Количество: {count}\")"
   ]
  }
 ],
 "metadata": {
  "kernelspec": {
   "display_name": "Python 3 (ipykernel)",
   "language": "python",
   "name": "python3"
  },
  "language_info": {
   "codemirror_mode": {
    "name": "ipython",
    "version": 3
   },
   "file_extension": ".py",
   "mimetype": "text/x-python",
   "name": "python",
   "nbconvert_exporter": "python",
   "pygments_lexer": "ipython3",
   "version": "3.11.9"
  }
 },
 "nbformat": 4,
 "nbformat_minor": 5
}
