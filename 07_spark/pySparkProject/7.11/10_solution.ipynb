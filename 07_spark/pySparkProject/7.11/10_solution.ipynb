{
 "cells": [
  {
   "cell_type": "code",
   "execution_count": 1,
   "id": "initial_id",
   "metadata": {
    "ExecuteTime": {
     "end_time": "2025-07-31T10:45:51.778290Z",
     "start_time": "2025-07-31T10:45:51.710917Z"
    },
    "collapsed": true,
    "jupyter": {
     "outputs_hidden": true
    }
   },
   "outputs": [],
   "source": [
    "from pyspark.sql import SparkSession\n",
    "from pyspark.sql import functions as F\n",
    "from pyspark.sql.types import *\n",
    "from pyspark.sql import Window"
   ]
  },
  {
   "cell_type": "code",
   "execution_count": 2,
   "id": "6487f140baab8d46",
   "metadata": {
    "ExecuteTime": {
     "end_time": "2025-07-31T10:45:56.765964Z",
     "start_time": "2025-07-31T10:45:51.780929Z"
    }
   },
   "outputs": [],
   "source": [
    "# 1. Создаем сессию Spark\n",
    "spark = SparkSession.builder \\\n",
    "    .appName(\"UserSessions_Netflix\") \\\n",
    "    .getOrCreate()"
   ]
  },
  {
   "cell_type": "code",
   "execution_count": 3,
   "id": "4a38c74f555d532a",
   "metadata": {
    "ExecuteTime": {
     "end_time": "2025-07-31T10:45:56.932763Z",
     "start_time": "2025-07-31T10:45:56.929599Z"
    }
   },
   "outputs": [],
   "source": [
    "schema = StructType((\n",
    "            StructField(\"title\", StringType(), True),\n",
    "            StructField(\"type\", StringType(), True),\n",
    "            StructField(\"genres\", StringType(), True),\n",
    "            StructField(\"releaseYear\", IntegerType(), True),\n",
    "            StructField(\"imdbId\", StringType(), True),\n",
    "            StructField(\"imdbAverageRating\", DoubleType(), True),\n",
    "            StructField(\"imdbNumVotes\", IntegerType(), True),\n",
    "            StructField(\"availableCountries\", StringType(), True)\n",
    "))"
   ]
  },
  {
   "cell_type": "code",
   "execution_count": 4,
   "id": "a4385bdaf3d4613c",
   "metadata": {
    "ExecuteTime": {
     "end_time": "2025-07-31T10:45:57.858598Z",
     "start_time": "2025-07-31T10:45:56.938784Z"
    }
   },
   "outputs": [],
   "source": [
    "# Считываем со схемой\n",
    "df = spark.read.option(\"header\", True).csv(\"netflix_data.csv\", schema= schema)"
   ]
  },
  {
   "cell_type": "code",
   "execution_count": 5,
   "id": "7aa7b9cb73247318",
   "metadata": {
    "ExecuteTime": {
     "end_time": "2025-07-31T10:45:57.984041Z",
     "start_time": "2025-07-31T10:45:57.883953Z"
    }
   },
   "outputs": [],
   "source": [
    "# Преобразуем типы со структурой array\n",
    "df = df.withColumn(\"genres\", F.split(F.col(\"genres\"), \", \"))\n",
    "df = df.withColumn(\"availableCountries\", F.split(F.col(\"availableCountries\"), \", \"))"
   ]
  },
  {
   "cell_type": "code",
   "execution_count": 6,
   "id": "6cfb26e2bad7993a",
   "metadata": {
    "ExecuteTime": {
     "end_time": "2025-07-31T10:45:59.242517Z",
     "start_time": "2025-07-31T10:45:57.992289Z"
    }
   },
   "outputs": [
    {
     "name": "stdout",
     "output_type": "stream",
     "text": [
      "+--------------------+-----+--------------------+-----------+---------+-----------------+------------+------------------+\n",
      "|               title| type|              genres|releaseYear|   imdbId|imdbAverageRating|imdbNumVotes|availableCountries|\n",
      "+--------------------+-----+--------------------+-----------+---------+-----------------+------------+------------------+\n",
      "|               Ariel|movie|[Comedy, Crime, D...|       1988|tt0094675|              7.4|        9240|              NULL|\n",
      "| Shadows in Paradise|movie|[Comedy, Drama, M...|       1986|tt0092149|              7.4|        8074|              NULL|\n",
      "|        Forrest Gump|movie|    [Drama, Romance]|       1994|tt0109830|              8.8|     2392180|              NULL|\n",
      "|     American Beauty|movie|             [Drama]|       1999|tt0169547|              8.3|     1252895|              NULL|\n",
      "|   The Fifth Element|movie|[Action, Adventur...|       1997|tt0119116|              7.6|      529085|              NULL|\n",
      "|             Jarhead|movie|[Biography, Drama...|       2005|tt0418763|              7.0|      216817|              NULL|\n",
      "|          Unforgiven|movie|    [Drama, Western]|       1992|tt0105695|              8.2|      456453|              NULL|\n",
      "|Eternal Sunshine ...|movie|[Drama, Romance, ...|       2004|tt0338013|              8.3|     1141907|              NULL|\n",
      "|       Amores Perros|movie|   [Drama, Thriller]|       2000|tt0245712|              8.0|      268527|              NULL|\n",
      "|A History of Viol...|movie|[Action, Crime, D...|       2005|tt0399146|              7.4|      265498|              NULL|\n",
      "|         Talk to Her|movie|[Drama, Mystery, ...|       2002|tt0287467|              7.9|      120186|              NULL|\n",
      "|              8 Mile|movie|      [Drama, Music]|       2002|tt0298203|              7.2|      339837|              NULL|\n",
      "|        Paradise Now|movie|[Crime, Drama, Th...|       2005|tt0445620|              7.4|       24550|              NULL|\n",
      "| Million Dollar Baby|movie|      [Drama, Sport]|       2004|tt0405159|              8.1|      748946|              NULL|\n",
      "|        Billy Elliot|movie|      [Drama, Music]|       2000|tt0249462|              7.7|      148414|              NULL|\n",
      "|  American History X|movie|      [Crime, Drama]|       1998|tt0120586|              8.5|     1236058|              NULL|\n",
      "|       Mars Attacks!|movie|    [Comedy, Sci-Fi]|       1996|tt0116996|              6.4|      252989|              NULL|\n",
      "|      Before Sunrise|movie|[Comedy, Drama, R...|       1995|tt0112471|              8.1|      361469|              NULL|\n",
      "|             Memento|movie| [Mystery, Thriller]|       2000|tt0209144|              8.4|     1385296|              NULL|\n",
      "|                Hero|movie|[Action, Adventur...|       2002|tt0299977|              7.9|      191121|              NULL|\n",
      "+--------------------+-----+--------------------+-----------+---------+-----------------+------------+------------------+\n",
      "only showing top 20 rows\n"
     ]
    }
   ],
   "source": [
    "df.show()"
   ]
  },
  {
   "cell_type": "code",
   "execution_count": 7,
   "id": "bb9861dd7cbd4496",
   "metadata": {
    "ExecuteTime": {
     "end_time": "2025-07-31T10:45:59.273475Z",
     "start_time": "2025-07-31T10:45:59.269312Z"
    }
   },
   "outputs": [
    {
     "name": "stdout",
     "output_type": "stream",
     "text": [
      "root\n",
      " |-- title: string (nullable = true)\n",
      " |-- type: string (nullable = true)\n",
      " |-- genres: array (nullable = true)\n",
      " |    |-- element: string (containsNull = false)\n",
      " |-- releaseYear: integer (nullable = true)\n",
      " |-- imdbId: string (nullable = true)\n",
      " |-- imdbAverageRating: double (nullable = true)\n",
      " |-- imdbNumVotes: integer (nullable = true)\n",
      " |-- availableCountries: array (nullable = true)\n",
      " |    |-- element: string (containsNull = false)\n",
      "\n"
     ]
    }
   ],
   "source": [
    "df.printSchema()"
   ]
  },
  {
   "cell_type": "code",
   "execution_count": 8,
   "id": "cf51c42807786eb3",
   "metadata": {
    "ExecuteTime": {
     "end_time": "2025-07-31T10:46:01.465396Z",
     "start_time": "2025-07-31T10:45:59.333255Z"
    }
   },
   "outputs": [
    {
     "name": "stdout",
     "output_type": "stream",
     "text": [
      "Статистика до чистки:\n",
      "+-------+---------------------+-------------+------------------+---------+------------------+------------------+\n",
      "|summary|                title|         type|       releaseYear|   imdbId| imdbAverageRating|      imdbNumVotes|\n",
      "+-------+---------------------+-------------+------------------+---------+------------------+------------------+\n",
      "|  count|                21183|        21910|             21870|    20275|             20096|             20096|\n",
      "|   mean|             1263.387|         NULL|2013.3624142661179|   2024.0| 6.399945262738879| 32507.63350915605|\n",
      "| stddev|    902.2972086431237|         NULL|14.319377116372104|     NULL|1.0900045754995984|122414.34841806859|\n",
      "|    min| \"'Tis Time for \"\"...| \"\" Princess\"|              1913|     2024|               1.0|                 5|\n",
      "|    25%|                100.0|         NULL|              2011|   2024.0|               5.7|               335|\n",
      "|    50%|               1899.0|         NULL|              2018|   2024.0|               6.5|              1626|\n",
      "|    75%|               1991.0|         NULL|              2022|   2024.0|               7.2|             10505|\n",
      "|    max|피치 오브 타임 극장판|           tv|              2025|tt9916362|               9.8|           3062238|\n",
      "+-------+---------------------+-------------+------------------+---------+------------------+------------------+\n",
      "\n"
     ]
    }
   ],
   "source": [
    "# Статистика до чистки\n",
    "print(f\"Статистика до чистки:\")\n",
    "df.summary().show()"
   ]
  },
  {
   "cell_type": "code",
   "execution_count": 9,
   "id": "276b4ee16329574e",
   "metadata": {
    "ExecuteTime": {
     "end_time": "2025-07-31T10:46:01.485203Z",
     "start_time": "2025-07-31T10:46:01.472260Z"
    }
   },
   "outputs": [],
   "source": [
    "# Удаляем дубликаты\n",
    "df = df.dropDuplicates([\"title\", \"releaseYear\", \"imdbId\"])"
   ]
  },
  {
   "cell_type": "code",
   "execution_count": 10,
   "id": "c61cb694e9be87d5",
   "metadata": {
    "ExecuteTime": {
     "end_time": "2025-07-31T10:46:01.506672Z",
     "start_time": "2025-07-31T10:46:01.492629Z"
    }
   },
   "outputs": [],
   "source": [
    "# Удаляем пропуски\n",
    "df = df.dropna(subset=[\"imdbAverageRating\",\"genres\"])"
   ]
  },
  {
   "cell_type": "code",
   "execution_count": 11,
   "id": "a4534e02a49f0a41",
   "metadata": {
    "ExecuteTime": {
     "end_time": "2025-07-31T10:46:03.535982Z",
     "start_time": "2025-07-31T10:46:01.513860Z"
    }
   },
   "outputs": [
    {
     "name": "stdout",
     "output_type": "stream",
     "text": [
      "Статистика после чистки:\n",
      "+-------+--------------------+-----+------------------+---------+-----------------+------------------+\n",
      "|summary|               title| type|       releaseYear|   imdbId|imdbAverageRating|      imdbNumVotes|\n",
      "+-------+--------------------+-----+------------------+---------+-----------------+------------------+\n",
      "|  count|               20090|20090|             20090|    20090|            20090|             20090|\n",
      "|   mean|   1238.296896551724| NULL|2012.9651567944252|     NULL|6.399552015928372| 32516.14225983076|\n",
      "| stddev|   907.5554049560967| NULL|14.656896362088187|     NULL|1.089722188501761|122431.57097925746|\n",
      "|    min|\"Gabriel \"\"Fluffy...|movie|              1913|tt0003014|              1.0|                 5|\n",
      "|    25%|               100.0| NULL|              2011|     NULL|              5.7|               335|\n",
      "|    50%|              1899.0| NULL|              2018|     NULL|              6.5|              1626|\n",
      "|    75%|              1991.0| NULL|              2022|     NULL|              7.2|             10512|\n",
      "|    max|Ôpun Marijji aru ...|   tv|              2025|tt9916362|              9.8|           3062238|\n",
      "+-------+--------------------+-----+------------------+---------+-----------------+------------------+\n",
      "\n"
     ]
    }
   ],
   "source": [
    "print(f\"Статистика после чистки:\")\n",
    "df.summary().show()"
   ]
  },
  {
   "cell_type": "code",
   "execution_count": 12,
   "id": "839dd061039d0c9",
   "metadata": {
    "ExecuteTime": {
     "end_time": "2025-07-31T10:46:04.176213Z",
     "start_time": "2025-07-31T10:46:03.544029Z"
    }
   },
   "outputs": [
    {
     "name": "stdout",
     "output_type": "stream",
     "text": [
      "+--------------------------------------------------------------+-----+------------------------------+-----------+----------+-----------------+------------+------------------+\n",
      "|title                                                         |type |genres                        |releaseYear|imdbId    |imdbAverageRating|imdbNumVotes|availableCountries|\n",
      "+--------------------------------------------------------------+-----+------------------------------+-----------+----------+-----------------+------------+------------------+\n",
      "|\"Gabriel \"\"Fluffy\"\" Iglesias: One Show Fits All\"              |movie|[Comedy]                      |2019       |tt9426212 |7.3              |2285        |NULL              |\n",
      "|\"The Most Notorious \"\"Talker\"\" Runs the World's Greatest Clan\"|tv   |[Action, Adventure, Animation]|2024       |tt32501772|7.3              |897         |NULL              |\n",
      "|#AAY                                                          |movie|[Comedy]                      |2024       |tt28359277|6.4              |817         |NULL              |\n",
      "|#Alive                                                        |movie|[Action, Drama, Horror]       |2020       |tt10620868|6.3              |52102       |NULL              |\n",
      "|#Anne Frank Parallel Stories                                  |movie|[Documentary, Drama, History] |2019       |tt9850370 |6.6              |1797        |NULL              |\n",
      "|#BlackAF                                                      |tv   |[Comedy]                      |2020       |tt10311562|6.8              |5489        |NULL              |\n",
      "|#Female Pleasure                                              |movie|[Documentary]                 |2018       |tt8372826 |7.5              |698         |NULL              |\n",
      "|#FriendButMarried 2                                           |movie|[Biography, Comedy, Drama]    |2020       |tt11640412|6.8              |410         |NULL              |\n",
      "|#FriendsButMarried                                            |movie|[Biography, Comedy, Drama]    |2018       |tt8076266 |6.7              |857         |NULL              |\n",
      "|#Iamhere                                                      |movie|[Comedy]                      |2019       |tt9828918 |6.0              |1503        |NULL              |\n",
      "+--------------------------------------------------------------+-----+------------------------------+-----------+----------+-----------------+------------+------------------+\n",
      "only showing top 10 rows\n"
     ]
    }
   ],
   "source": [
    "# Вывод первых 10 строк\n",
    "df.show(10, truncate=False)"
   ]
  },
  {
   "cell_type": "code",
   "execution_count": 13,
   "id": "9de98e94ed6508ef",
   "metadata": {
    "ExecuteTime": {
     "end_time": "2025-07-31T10:46:06.453783Z",
     "start_time": "2025-07-31T10:46:04.206645Z"
    }
   },
   "outputs": [
    {
     "name": "stdout",
     "output_type": "stream",
     "text": [
      "+-----------+-----+---+\n",
      "|releaseYear|movie| tv|\n",
      "+-----------+-----+---+\n",
      "|       2025|  147|184|\n",
      "|       2024|  844|494|\n",
      "|       2023| 1176|511|\n",
      "|       2022| 1271|574|\n",
      "|       2021|  954|465|\n",
      "|       2020|  874|409|\n",
      "|       2019| 1010|389|\n",
      "|       2018| 1022|348|\n",
      "|       2017|  833|239|\n",
      "|       2016|  680|178|\n",
      "+-----------+-----+---+\n",
      "\n"
     ]
    }
   ],
   "source": [
    "# Анализ соотношения фильмов и сериалов по годам\n",
    "(df.groupBy(\"releaseYear\")\n",
    "    .pivot(\"type\")\n",
    "    .agg(F.count(\"title\").alias(\"total_titles\"))\n",
    "    .orderBy(F.col(\"releaseYear\").desc())\n",
    "    .limit(10)\n",
    "    .show()\n",
    ")"
   ]
  },
  {
   "cell_type": "code",
   "execution_count": 14,
   "id": "c1f819d86601e4bd",
   "metadata": {
    "ExecuteTime": {
     "end_time": "2025-07-31T10:46:07.867409Z",
     "start_time": "2025-07-31T10:46:06.494716Z"
    }
   },
   "outputs": [
    {
     "name": "stdout",
     "output_type": "stream",
     "text": [
      "+-----------+-----+----+\n",
      "|      genre|movie|  tv|\n",
      "+-----------+-----+----+\n",
      "|      Drama| 7509|2208|\n",
      "|     Comedy| 6034|1378|\n",
      "|     Action| 2709| 761|\n",
      "|      Crime| 2310| 773|\n",
      "|    Romance| 2370| 662|\n",
      "|  Adventure| 1772| 696|\n",
      "|   Thriller| 1798| 298|\n",
      "|Documentary| 1447| 540|\n",
      "|  Animation|  982| 998|\n",
      "|    Mystery| 1054| 384|\n",
      "|     Horror| 1128| 125|\n",
      "|     Family|  816| 249|\n",
      "|    Fantasy|  698| 306|\n",
      "|  Biography|  873| 126|\n",
      "|    History|  525| 223|\n",
      "+-----------+-----+----+\n",
      "\n"
     ]
    }
   ],
   "source": [
    "# Анализ соотношения фильмов и сериалов по жанрам\n",
    "(df.select(F.explode_outer(F.col(\"genres\")).alias(\"genre\"), \"type\")\n",
    "    .groupBy(\"genre\")\n",
    "    .pivot(\"type\")\n",
    "    .agg(F.count(\"type\").alias(\"count\"))\n",
    "    .orderBy((F.col(\"movie\") + F.col(\"tv\")).desc())\n",
    "    .limit(15)\n",
    "    .show()\n",
    ")"
   ]
  },
  {
   "cell_type": "code",
   "execution_count": 15,
   "id": "442cb222bb09aa8f",
   "metadata": {
    "ExecuteTime": {
     "end_time": "2025-07-31T10:46:08.664835Z",
     "start_time": "2025-07-31T10:46:07.902470Z"
    }
   },
   "outputs": [
    {
     "name": "stdout",
     "output_type": "stream",
     "text": [
      "+------------------+--------------+-----------+\n",
      "|             genre|average_rating|total_votes|\n",
      "+------------------+--------------+-----------+\n",
      "|Action & Adventure|           7.0|        222|\n",
      "|         Biography|          6.93|   43144041|\n",
      "|       Documentary|          6.93|    6721103|\n",
      "|           History|          6.92|   17775960|\n",
      "|         Animation|          6.79|   38227002|\n",
      "|         Talk-Show|          6.76|     115327|\n",
      "|               War|          6.72|   11575840|\n",
      "|             Sport|          6.72|    9147143|\n",
      "|             Music|          6.65|   11650484|\n",
      "|              News|          6.64|      14014|\n",
      "+------------------+--------------+-----------+\n",
      "\n"
     ]
    }
   ],
   "source": [
    "# Популярность жанров на IMDb\n",
    "(df.select(F.explode_outer(F.col(\"genres\")).alias(\"genre\"), \"imdbAverageRating\", \"imdbNumVotes\")\n",
    "    .groupBy(\"genre\")\n",
    "    .agg(F.round(F.avg(\"imdbAverageRating\"),2).alias(\"average_rating\"), F.sum(\"imdbNumVotes\").alias(\"total_votes\"))\n",
    "    .orderBy(F.col(\"average_rating\").desc())\n",
    "    .limit(10)\n",
    "    .show()\n",
    ")"
   ]
  },
  {
   "cell_type": "code",
   "execution_count": 16,
   "id": "31db03bf84affd2e",
   "metadata": {
    "ExecuteTime": {
     "end_time": "2025-07-31T10:46:09.370909Z",
     "start_time": "2025-07-31T10:46:08.696362Z"
    }
   },
   "outputs": [
    {
     "name": "stdout",
     "output_type": "stream",
     "text": [
      "+-----------+------------+--------------+\n",
      "|releaseYear|total_titles|average_rating|\n",
      "+-----------+------------+--------------+\n",
      "|       2025|         331|          6.44|\n",
      "|       2024|        1338|          6.28|\n",
      "|       2023|        1687|          6.27|\n",
      "|       2022|        1845|          6.26|\n",
      "|       2021|        1419|          6.33|\n",
      "|       2020|        1283|          6.33|\n",
      "|       2019|        1399|          6.42|\n",
      "|       2018|        1370|          6.41|\n",
      "|       2017|        1072|          6.46|\n",
      "|       2016|         858|          6.52|\n",
      "+-----------+------------+--------------+\n",
      "\n"
     ]
    }
   ],
   "source": [
    "# Динамика выпуска контента по годам и рейтинг\n",
    "(df.groupBy(\"releaseYear\")\n",
    "    .agg(F.count(\"*\").alias(\"total_titles\"), F.round(F.avg(\"imdbAverageRating\"),2).alias(\"average_rating\"))\n",
    "    .orderBy(F.col(\"releaseYear\").desc())\n",
    "    .limit(10)\n",
    "    .show()\n",
    "    )"
   ]
  },
  {
   "cell_type": "code",
   "execution_count": 17,
   "id": "e2074a3d3ca24b9c",
   "metadata": {
    "ExecuteTime": {
     "end_time": "2025-07-31T10:46:10.141500Z",
     "start_time": "2025-07-31T10:46:09.392529Z"
    }
   },
   "outputs": [
    {
     "name": "stdout",
     "output_type": "stream",
     "text": [
      "+-----------+------------------------+-------------------------+------------------+\n",
      "|releaseYear|current_year_title_count|previous_year_title_count|title_count_growth|\n",
      "+-----------+------------------------+-------------------------+------------------+\n",
      "|       2022|                    1845|                     1419|               426|\n",
      "|       2018|                    1370|                     1072|               298|\n",
      "|       2017|                    1072|                      858|               214|\n",
      "|       2016|                     858|                      710|               148|\n",
      "|       2021|                    1419|                     1283|               136|\n",
      "|       2015|                     710|                      590|               120|\n",
      "|       2013|                     513|                      404|               109|\n",
      "|       2014|                     590|                      513|                77|\n",
      "|       2003|                     214|                      170|                44|\n",
      "|       2009|                     324|                      282|                42|\n",
      "+-----------+------------------------+-------------------------+------------------+\n",
      "\n"
     ]
    }
   ],
   "source": [
    "# Анализ динамики прироста фильмов по годам\n",
    "df_window = (df.groupBy(\"releaseYear\")\n",
    ".agg(F.count(\"*\").alias(\"current_year_title_count\"))\n",
    ".withColumn(\"previous_year_title_count\", F.lag(\"current_year_title_count\").over(Window.orderBy(\"releaseYear\")))\n",
    ".orderBy(F.col(\"releaseYear\").desc()))\n",
    "df_window = df_window.withColumn(\"title_count_growth\", F.col(\"current_year_title_count\") - F.col(\"previous_year_title_count\"))\n",
    "df_window.orderBy(F.col(\"title_count_growth\").desc()).limit(10).show()"
   ]
  },
  {
   "cell_type": "code",
   "execution_count": 18,
   "id": "ab5bc48224a5711d",
   "metadata": {
    "ExecuteTime": {
     "end_time": "2025-07-31T10:46:10.734829Z",
     "start_time": "2025-07-31T10:46:10.166689Z"
    }
   },
   "outputs": [
    {
     "name": "stdout",
     "output_type": "stream",
     "text": [
      "+-------------------+-----+---------------------------------+-----------+----------+-----------------+------------+------------------+\n",
      "|title              |type |genres                           |releaseYear|imdbId    |imdbAverageRating|imdbNumVotes|availableCountries|\n",
      "+-------------------+-----+---------------------------------+-----------+----------+-----------------+------------+------------------+\n",
      "|Flavours of Romania|tv   |[Documentary]                    |2017       |tt13094256|9.4              |781         |NULL              |\n",
      "|Khawatir           |tv   |[Documentary, Family, Reality-TV]|2005       |tt3062514 |9.1              |4500        |NULL              |\n",
      "|Running Man        |tv   |[Comedy, Game-Show, Reality-TV]  |2010       |tt2185037 |9.1              |3912        |NULL              |\n",
      "|My Dearest         |tv   |[Drama, History, Romance]        |2023       |tt26228190|8.9              |3367        |NULL              |\n",
      "|Nirvana in Fire    |tv   |[Action, Drama, Fantasy]         |2015       |tt5141800 |8.9              |3329        |NULL              |\n",
      "|No Longer Kids     |movie|[Comedy]                         |1979       |tt8312792 |8.9              |1466        |NULL              |\n",
      "|Okupas             |tv   |[Crime, Drama]                   |2000       |tt0289649 |8.9              |3579        |NULL              |\n",
      "|A Lion in the House|tv   |[Documentary]                    |2006       |tt0492472 |8.8              |410         |NULL              |\n",
      "|30 for 30          |tv   |[Biography, Documentary, History]|2009       |tt1408430 |8.8              |5910        |NULL              |\n",
      "|Hey Duggee         |tv   |[Adventure, Animation, Comedy]   |2014       |tt4291050 |8.8              |1594        |NULL              |\n",
      "+-------------------+-----+---------------------------------+-----------+----------+-----------------+------------+------------------+\n",
      "only showing top 10 rows\n"
     ]
    }
   ],
   "source": [
    "# Поиск \"Скрытых Жемчужин\" (High Rating, Low Votes)\n",
    "(df.filter((F.col(\"imdbNumVotes\") > 300) & (F.col(\"imdbNumVotes\") < 10000))\n",
    ".orderBy(F.col(\"imdbAverageRating\").desc()).show(10,truncate=False))"
   ]
  }
 ],
 "metadata": {
  "kernelspec": {
   "display_name": "Python 3 (ipykernel)",
   "language": "python",
   "name": "python3"
  },
  "language_info": {
   "codemirror_mode": {
    "name": "ipython",
    "version": 3
   },
   "file_extension": ".py",
   "mimetype": "text/x-python",
   "name": "python",
   "nbconvert_exporter": "python",
   "pygments_lexer": "ipython3",
   "version": "3.11.9"
  }
 },
 "nbformat": 4,
 "nbformat_minor": 5
}
