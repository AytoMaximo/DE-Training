{
 "cells": [
  {
   "cell_type": "code",
   "execution_count": 1,
   "id": "initial_id",
   "metadata": {
    "ExecuteTime": {
     "end_time": "2025-07-31T10:18:18.046325Z",
     "start_time": "2025-07-31T10:18:17.977835Z"
    },
    "collapsed": true,
    "jupyter": {
     "outputs_hidden": true
    }
   },
   "outputs": [],
   "source": [
    "from pyspark.sql import SparkSession\n",
    "from pyspark.sql import functions as F"
   ]
  },
  {
   "cell_type": "code",
   "execution_count": 2,
   "id": "aefcee4d348a1e4a",
   "metadata": {
    "ExecuteTime": {
     "end_time": "2025-07-31T10:18:25.495800Z",
     "start_time": "2025-07-31T10:18:18.048856Z"
    }
   },
   "outputs": [],
   "source": [
    "# 1. Создаем сессию Spark\n",
    "spark = SparkSession.builder \\\n",
    "    .appName(\"UserSessions\") \\\n",
    "    .config(\"spark.jars.packages\", \"org.apache.spark:spark-avro_2.12:3.5.0\") \\\n",
    "    .getOrCreate()"
   ]
  },
  {
   "cell_type": "code",
   "execution_count": 3,
   "id": "2146b0d3e6988036",
   "metadata": {
    "ExecuteTime": {
     "end_time": "2025-07-31T10:18:26.660602Z",
     "start_time": "2025-07-31T10:18:25.658578Z"
    }
   },
   "outputs": [],
   "source": [
    "# Загрузка данных из файла Avro\n",
    "df = spark.read.format(\"avro\").load(\"activity_log.avro\")"
   ]
  },
  {
   "cell_type": "code",
   "execution_count": 4,
   "id": "39492a2dd3f46098",
   "metadata": {
    "ExecuteTime": {
     "end_time": "2025-07-31T10:18:36.562588Z",
     "start_time": "2025-07-31T10:18:35.241793Z"
    }
   },
   "outputs": [
    {
     "name": "stdout",
     "output_type": "stream",
     "text": [
      "root\n",
      " |-- event_id: string (nullable = true)\n",
      " |-- user_id: integer (nullable = true)\n",
      " |-- session_id: string (nullable = true)\n",
      " |-- event_type: string (nullable = true)\n",
      " |-- timestamp: string (nullable = true)\n",
      " |-- page_url: string (nullable = true)\n",
      " |-- product_id: string (nullable = true)\n",
      " |-- amount: double (nullable = true)\n",
      "\n",
      "+--------+-------+----------+------------+-----------------+--------------------+----------+------+\n",
      "|event_id|user_id|session_id|event_type  |timestamp        |page_url            |product_id|amount|\n",
      "+--------+-------+----------+------------+-----------------+--------------------+----------+------+\n",
      "|E001    |101    |S101-A    |login       |01-Jan-2025 10:00|/login              |NULL      |NULL  |\n",
      "|E002    |101    |S101-A    |view_page   |01-Jan-2025 10:05|/products/category_A|NULL      |NULL  |\n",
      "|E003    |101    |S101-A    |view_product|01-Jan-2025 10:08|/product/P005       |P005      |NULL  |\n",
      "|E004    |101    |S101-A    |add_to_cart |01-Jan-2025 10:10|/cart/add           |P005      |NULL  |\n",
      "|E005    |101    |S101-A    |purchase    |01-Jan-2025 10:15|/checkout           |P005      |120.5 |\n",
      "|E006    |101    |S101-A    |logout      |01-Jan-2025 10:20|/logout             |NULL      |NULL  |\n",
      "|E007    |102    |S102-B    |login       |02-Jan-2025 11:30|/login              |NULL      |NULL  |\n",
      "|E008    |102    |S102-B    |view_page   |02-Jan-2025 11:35|/home               |NULL      |NULL  |\n",
      "|E009    |102    |S102-B    |view_product|02-Jan-2025 11:38|/product/P010       |P010      |NULL  |\n",
      "|E010    |103    |S103-C    |login       |03-Jan-2025 09:00|/login              |NULL      |NULL  |\n",
      "+--------+-------+----------+------------+-----------------+--------------------+----------+------+\n",
      "only showing top 10 rows\n"
     ]
    }
   ],
   "source": [
    "# Выведите схему и первые 10 строк\n",
    "df.printSchema()\n",
    "df.show(10, truncate=False)"
   ]
  },
  {
   "cell_type": "code",
   "execution_count": 5,
   "id": "463e277bdf1ac22e",
   "metadata": {
    "ExecuteTime": {
     "end_time": "2025-07-31T10:18:42.059651Z",
     "start_time": "2025-07-31T10:18:41.885781Z"
    }
   },
   "outputs": [
    {
     "name": "stdout",
     "output_type": "stream",
     "text": [
      "+--------+-------+----------+------------+-----------------+--------------------+----------+------+-------------------+\n",
      "|event_id|user_id|session_id|  event_type|        timestamp|            page_url|product_id|amount|         event_time|\n",
      "+--------+-------+----------+------------+-----------------+--------------------+----------+------+-------------------+\n",
      "|    E001|    101|    S101-A|       login|01-Jan-2025 10:00|              /login|      NULL|  NULL|2025-01-01 10:00:00|\n",
      "|    E002|    101|    S101-A|   view_page|01-Jan-2025 10:05|/products/category_A|      NULL|  NULL|2025-01-01 10:05:00|\n",
      "|    E003|    101|    S101-A|view_product|01-Jan-2025 10:08|       /product/P005|      P005|  NULL|2025-01-01 10:08:00|\n",
      "|    E004|    101|    S101-A| add_to_cart|01-Jan-2025 10:10|           /cart/add|      P005|  NULL|2025-01-01 10:10:00|\n",
      "|    E005|    101|    S101-A|    purchase|01-Jan-2025 10:15|           /checkout|      P005| 120.5|2025-01-01 10:15:00|\n",
      "+--------+-------+----------+------------+-----------------+--------------------+----------+------+-------------------+\n",
      "only showing top 5 rows\n"
     ]
    }
   ],
   "source": [
    "# Преобразование колонки timestamp в TimestampType\n",
    "df = df.withColumn(\"event_time\", F.to_timestamp(\"timestamp\", \"dd-MMM-yyyy HH:mm\"))\n",
    "df.show(5)"
   ]
  },
  {
   "cell_type": "code",
   "execution_count": 6,
   "id": "f19754ebbf643b30",
   "metadata": {
    "ExecuteTime": {
     "end_time": "2025-07-31T10:18:48.504397Z",
     "start_time": "2025-07-31T10:18:47.704923Z"
    }
   },
   "outputs": [
    {
     "name": "stdout",
     "output_type": "stream",
     "text": [
      "+----------+------------+\n",
      "|      date|total_events|\n",
      "+----------+------------+\n",
      "|2025-01-01|           6|\n",
      "|2025-01-02|           3|\n",
      "|2025-01-03|           3|\n",
      "|2025-01-04|           2|\n",
      "|2025-01-05|           6|\n",
      "|2025-01-06|           5|\n",
      "|2025-01-07|           5|\n",
      "|2025-01-08|           4|\n",
      "|2025-01-09|           6|\n",
      "+----------+------------+\n",
      "\n"
     ]
    }
   ],
   "source": [
    "# Посчитайте количество уникальных событий для каждого дня\n",
    "(df.groupBy(F.col(\"event_time\").cast(\"date\").alias(\"date\"))\n",
    "        .agg(F.count(\"event_id\").alias(\"total_events\"))\n",
    "        .orderBy(\"date\").show()\n",
    ")"
   ]
  },
  {
   "cell_type": "code",
   "execution_count": 7,
   "id": "e83ab9691e912eb6",
   "metadata": {
    "ExecuteTime": {
     "end_time": "2025-07-31T10:18:54.620267Z",
     "start_time": "2025-07-31T10:18:54.400954Z"
    }
   },
   "outputs": [
    {
     "name": "stdout",
     "output_type": "stream",
     "text": [
      "Количество уникальных пользователей\n",
      "+-------+\n",
      "|user_id|\n",
      "+-------+\n",
      "|    101|\n",
      "|    102|\n",
      "|    103|\n",
      "|    104|\n",
      "|    105|\n",
      "|    106|\n",
      "|    107|\n",
      "+-------+\n",
      "\n"
     ]
    }
   ],
   "source": [
    "#  Найдите количество уникальных пользователей\n",
    "print(\"Количество уникальных пользователей\")\n",
    "df.select(\"user_id\").distinct().orderBy(\"user_id\").show()"
   ]
  },
  {
   "cell_type": "code",
   "execution_count": 8,
   "id": "f2fea5c4174cac76",
   "metadata": {
    "ExecuteTime": {
     "end_time": "2025-07-31T10:18:58.459932Z",
     "start_time": "2025-07-31T10:18:58.198174Z"
    }
   },
   "outputs": [
    {
     "name": "stdout",
     "output_type": "stream",
     "text": [
      "Количество уникальных сессий\n",
      "9\n"
     ]
    }
   ],
   "source": [
    "# Найдите общее количество уникальных сессий\n",
    "print(\"Количество уникальных сессий\")\n",
    "print(df.select(\"session_id\").distinct().count())"
   ]
  },
  {
   "cell_type": "code",
   "execution_count": 9,
   "id": "f048d4dd3e2a5223",
   "metadata": {
    "ExecuteTime": {
     "end_time": "2025-07-31T10:19:03.726707Z",
     "start_time": "2025-07-31T10:19:03.405835Z"
    }
   },
   "outputs": [
    {
     "name": "stdout",
     "output_type": "stream",
     "text": [
      "+-------+---------------------+\n",
      "|user_id|unique_sessions_count|\n",
      "+-------+---------------------+\n",
      "|    101|                    2|\n",
      "|    102|                    2|\n",
      "|    103|                    1|\n",
      "|    104|                    1|\n",
      "|    105|                    1|\n",
      "|    106|                    1|\n",
      "|    107|                    1|\n",
      "+-------+---------------------+\n",
      "\n"
     ]
    }
   ],
   "source": [
    "# Количество уникальных сессий на пользователя\n",
    "(df.groupBy(\"user_id\").agg(\n",
    "    F.countDistinct(\"session_id\").alias(\"unique_sessions_count\")\n",
    "    ).orderBy(\"user_id\").show())"
   ]
  },
  {
   "cell_type": "code",
   "execution_count": 10,
   "id": "5f52de4ff6519da9",
   "metadata": {
    "ExecuteTime": {
     "end_time": "2025-07-31T10:19:09.686939Z",
     "start_time": "2025-07-31T10:19:09.488155Z"
    }
   },
   "outputs": [
    {
     "name": "stdout",
     "output_type": "stream",
     "text": [
      "+-------+----------+--------------+\n",
      "|user_id|session_id|count_sessions|\n",
      "+-------+----------+--------------+\n",
      "|    104|    S104-D|             2|\n",
      "|    102|    S102-B|             3|\n",
      "|    103|    S103-C|             3|\n",
      "|    106|    S106-F|             4|\n",
      "|    102|    S102-C|             5|\n",
      "|    101|    S101-B|             5|\n",
      "|    101|    S101-A|             6|\n",
      "|    105|    S105-E|             6|\n",
      "|    107|    S107-G|             6|\n",
      "+-------+----------+--------------+\n",
      "\n"
     ]
    }
   ],
   "source": [
    "# Количество событий в каждой сессии\n",
    "(df.groupBy(\"user_id\", \"session_id\")\n",
    "    .agg(F.count(\"*\").alias(\"count_sessions\"))\n",
    "    .orderBy(\"count_sessions\")\n",
    "    .show()\n",
    ")"
   ]
  },
  {
   "cell_type": "code",
   "execution_count": 11,
   "id": "6f9299ed14d4d960",
   "metadata": {
    "ExecuteTime": {
     "end_time": "2025-07-31T10:19:14.731093Z",
     "start_time": "2025-07-31T10:19:14.564014Z"
    }
   },
   "outputs": [
    {
     "name": "stdout",
     "output_type": "stream",
     "text": [
      "+---------------------+\n",
      "|count_purchase_amount|\n",
      "+---------------------+\n",
      "|                    4|\n",
      "+---------------------+\n",
      "\n"
     ]
    }
   ],
   "source": [
    "# Посчитайте общее количество покупок\n",
    "(df.filter(F.col(\"event_type\") == \"purchase\")\n",
    "    .agg(F.count(F.col(\"amount\")).alias(\"count_purchase_amount\"))\n",
    "    .show()\n",
    ")"
   ]
  },
  {
   "cell_type": "code",
   "execution_count": 12,
   "id": "761bcea12290c9c6",
   "metadata": {
    "ExecuteTime": {
     "end_time": "2025-07-31T10:19:20.298642Z",
     "start_time": "2025-07-31T10:19:20.150564Z"
    }
   },
   "outputs": [
    {
     "name": "stdout",
     "output_type": "stream",
     "text": [
      "+-------------------+\n",
      "|sum_purchase_amount|\n",
      "+-------------------+\n",
      "|              905.5|\n",
      "+-------------------+\n",
      "\n"
     ]
    }
   ],
   "source": [
    "# Найдите общую сумму всех покупок\n",
    "(df.filter(F.col(\"event_type\") == \"purchase\")\n",
    "    .agg(F.sum(F.col(\"amount\")).alias(\"sum_purchase_amount\"))\n",
    "    .show()\n",
    ")"
   ]
  },
  {
   "cell_type": "code",
   "execution_count": 13,
   "id": "f52de4cbb9340adc",
   "metadata": {
    "ExecuteTime": {
     "end_time": "2025-07-31T10:19:33.142549Z",
     "start_time": "2025-07-31T10:19:33.016597Z"
    }
   },
   "outputs": [
    {
     "name": "stdout",
     "output_type": "stream",
     "text": [
      "+-----------------------+\n",
      "|average_purchase_amount|\n",
      "+-----------------------+\n",
      "|                 226.38|\n",
      "+-----------------------+\n",
      "\n"
     ]
    }
   ],
   "source": [
    "# Посчитайте среднюю сумму покупки\n",
    "(df.filter(F.col(\"event_type\") == \"purchase\")\n",
    "    .agg(F.round(F.avg(F.col(\"amount\")), 2).alias(\"average_purchase_amount\"))\n",
    "    .show()\n",
    ")"
   ]
  },
  {
   "cell_type": "code",
   "execution_count": 14,
   "id": "f68b60cd677fb85c",
   "metadata": {
    "ExecuteTime": {
     "end_time": "2025-07-31T10:19:41.985422Z",
     "start_time": "2025-07-31T10:19:41.721306Z"
    }
   },
   "outputs": [
    {
     "name": "stdout",
     "output_type": "stream",
     "text": [
      "+-------+----------+-------------------+-------------------+------------------------+\n",
      "|user_id|session_id|min_time           |max_time           |session_duration_seconds|\n",
      "+-------+----------+-------------------+-------------------+------------------------+\n",
      "|101    |S101-A    |2025-01-01 10:00:00|2025-01-01 10:20:00|1200                    |\n",
      "|101    |S101-B    |2025-01-06 09:30:00|2025-01-06 09:40:00|600                     |\n",
      "|102    |S102-B    |2025-01-02 11:30:00|2025-01-02 11:38:00|480                     |\n",
      "|102    |S102-C    |2025-01-07 15:00:00|2025-01-07 15:18:00|1080                    |\n",
      "|103    |S103-C    |2025-01-03 09:00:00|2025-01-03 09:10:00|600                     |\n",
      "|104    |S104-D    |2025-01-04 14:00:00|2025-01-04 14:03:00|180                     |\n",
      "|105    |S105-E    |2025-01-05 16:45:00|2025-01-05 17:02:00|1020                    |\n",
      "|106    |S106-F    |2025-01-08 10:00:00|2025-01-08 10:10:00|600                     |\n",
      "|107    |S107-G    |2025-01-09 11:00:00|2025-01-09 11:15:00|900                     |\n",
      "+-------+----------+-------------------+-------------------+------------------------+\n",
      "\n"
     ]
    }
   ],
   "source": [
    "# Расчет продолжительности каждой сессии\n",
    "df_session_durations = df.groupBy(\"user_id\", \"session_id\").agg(\n",
    "    F.min(\"event_time\").alias(\"min_time\"),\n",
    "    F.max(\"event_time\").alias(\"max_time\")\n",
    ").withColumn(\n",
    "    \"session_duration_seconds\",\n",
    "    (F.unix_timestamp(F.col(\"max_time\")) - F.unix_timestamp(F.col(\"min_time\")))\n",
    ")\n",
    "df_session_durations.orderBy(\"user_id\", \"session_id\").show(truncate=False)"
   ]
  },
  {
   "cell_type": "code",
   "execution_count": 15,
   "id": "af0a2d6afff8af3d",
   "metadata": {
    "ExecuteTime": {
     "end_time": "2025-07-31T10:19:48.468783Z",
     "start_time": "2025-07-31T10:19:48.268536Z"
    }
   },
   "outputs": [
    {
     "name": "stdout",
     "output_type": "stream",
     "text": [
      "+--------------------------------+\n",
      "|average_session_duration_seconds|\n",
      "+--------------------------------+\n",
      "|                           740.0|\n",
      "+--------------------------------+\n",
      "\n"
     ]
    }
   ],
   "source": [
    "# Средняя продолжительность сессии\n",
    "(df_session_durations\n",
    "    .agg(F.round(F.avg(F.col(\"session_duration_seconds\")),2).alias(\"average_session_duration_seconds\"))\n",
    "    .show()\n",
    ")"
   ]
  }
 ],
 "metadata": {
  "kernelspec": {
   "display_name": "Python 3 (ipykernel)",
   "language": "python",
   "name": "python3"
  },
  "language_info": {
   "codemirror_mode": {
    "name": "ipython",
    "version": 3
   },
   "file_extension": ".py",
   "mimetype": "text/x-python",
   "name": "python",
   "nbconvert_exporter": "python",
   "pygments_lexer": "ipython3",
   "version": "3.11.9"
  }
 },
 "nbformat": 4,
 "nbformat_minor": 5
}
