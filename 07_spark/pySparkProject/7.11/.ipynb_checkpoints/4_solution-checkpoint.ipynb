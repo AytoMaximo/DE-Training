{
 "cells": [
  {
   "cell_type": "code",
   "id": "initial_id",
   "metadata": {
    "collapsed": true,
    "ExecuteTime": {
     "end_time": "2025-07-31T09:16:39.558280Z",
     "start_time": "2025-07-31T09:16:39.488881Z"
    }
   },
   "source": "from pyspark.sql import SparkSession",
   "outputs": [],
   "execution_count": 1
  },
  {
   "metadata": {
    "ExecuteTime": {
     "end_time": "2025-07-31T09:16:44.281789Z",
     "start_time": "2025-07-31T09:16:39.561294Z"
    }
   },
   "cell_type": "code",
   "source": [
    "# 1. Создаем сессию Spark\n",
    "spark = SparkSession.builder \\\n",
    "    .appName(\"SensorLogs\") \\\n",
    "    .getOrCreate()"
   ],
   "id": "f17eab062f958601",
   "outputs": [],
   "execution_count": 2
  },
  {
   "metadata": {
    "ExecuteTime": {
     "end_time": "2025-07-31T09:16:44.664218Z",
     "start_time": "2025-07-31T09:16:44.438122Z"
    }
   },
   "cell_type": "code",
   "source": [
    "# 2. Загружаем данные из logfiles.log в RDD\n",
    "rdd = spark.sparkContext.textFile(\"logfiles.log\")"
   ],
   "id": "7812727e4397f50d",
   "outputs": [],
   "execution_count": 3
  },
  {
   "metadata": {
    "ExecuteTime": {
     "end_time": "2025-07-31T09:16:45.761476Z",
     "start_time": "2025-07-31T09:16:44.671224Z"
    }
   },
   "cell_type": "code",
   "source": [
    "# Просмотр первых 5 строк RDD\n",
    "print(rdd.take(5))"
   ],
   "id": "e827ce1474bd19c1",
   "outputs": [
    {
     "name": "stdout",
     "output_type": "stream",
     "text": [
      "['28.225.186.85 - - [01/Jan/2025:00:00:00 +0530] \"POST /docs/api HTTP/1.0\" 200 4992 \"https://simmons.info/tagterms.html\" \"Mozilla/5.0 (iPhone; CPU iPhone OS 17_5_1 like Mac OS X) AppleWebKit/605.1.15 (KHTML, like Gecko) Version/17.5 Mobile/15E148 Safari/604.1\" 1425', '180.13.230.30 - - [01/Jan/2025:00:26:03 +0530] \"DELETE /auth/register HTTP/1.0\" 200 5009 \"https://robles.com/tags/wp-contentsearch.asp\" \"Mozilla/5.0 (Linux; Android 14; Pixel 8) AppleWebKit/537.36 (KHTML, like Gecko) Chrome/126.0.0.0 Mobile Safari/537.36\" 3557', '82.67.67.141 - - [01/Jan/2025:00:52:07 +0530] \"GET /blog/latest HTTP/1.0\" 401 4951 \"https://simmons.info/tagterms.html\" \"Mozilla/5.0 (iPhone; CPU iPhone OS 17_5_1 like Mac OS X) AppleWebKit/605.1.15 (KHTML, like Gecko) Version/17.5 Mobile/15E148 Safari/604.1\" 1182', '115.106.252.49 - - [01/Jan/2025:01:18:11 +0530] \"PUT /api/v1/products HTTP/1.0\" 200 4921 \"https://simmons.info/tagterms.html\" \"Mozilla/5.0 (iPhone; CPU iPhone OS 17_5_1 like Mac OS X) AppleWebKit/605.1.15 (KHTML, like Gecko) Version/17.5 Mobile/15E148 Safari/604.1\" 4595', '139.50.169.237 - - [01/Jan/2025:01:44:15 +0530] \"OPTIONS / HTTP/1.0\" 500 4990 \"https://simmons.info/tagterms.html\" \"Mozilla/5.0 (Linux; Android 14; Pixel 8) AppleWebKit/537.36 (KHTML, like Gecko) Chrome/126.0.0.0 Mobile Safari/537.36\" 4289']\n"
     ]
    }
   ],
   "execution_count": 4
  },
  {
   "metadata": {
    "ExecuteTime": {
     "end_time": "2025-07-31T09:16:45.782504Z",
     "start_time": "2025-07-31T09:16:45.778687Z"
    }
   },
   "cell_type": "code",
   "source": [
    "# 3. Напишите функцию parse_log, которая будет парсить каждую строку лога. Функция должна извлекать и возвращать следующие поля в кортеже:\n",
    "# - IP-адрес \n",
    "# - Полную строку запроса (например, \"GET /api/v1/users HTTP/1.0\")\n",
    "# - Статус-код ответа\n",
    "# - Размер ответа в байтах\n",
    "def parse_log(line):\n",
    "    parts = line.split()\n",
    "    ip_address = parts[0]\n",
    "    request = \" \".join(parts[5:8]).strip('\"')\n",
    "    status_code = parts[8]\n",
    "    response_size = int(parts[9]) if parts[9].isdigit() else 0\n",
    "    return (ip_address, request, status_code, response_size)"
   ],
   "id": "b6d71d57bf657b0a",
   "outputs": [],
   "execution_count": 5
  },
  {
   "metadata": {
    "ExecuteTime": {
     "end_time": "2025-07-31T09:16:45.794325Z",
     "start_time": "2025-07-31T09:16:45.791325Z"
    }
   },
   "cell_type": "code",
   "source": [
    "# Применяем функцию parse_log к RDD\n",
    "parsed_rdd = rdd.map(parse_log)"
   ],
   "id": "9d0a2ed4c67457c5",
   "outputs": [],
   "execution_count": 6
  },
  {
   "metadata": {
    "ExecuteTime": {
     "end_time": "2025-07-31T09:16:46.561212Z",
     "start_time": "2025-07-31T09:16:45.803653Z"
    }
   },
   "cell_type": "code",
   "source": [
    "# Просмотр первых 5 строк после парсинга\n",
    "print(parsed_rdd.take(5))"
   ],
   "id": "9de4f1e78fb4a184",
   "outputs": [
    {
     "name": "stdout",
     "output_type": "stream",
     "text": [
      "[('28.225.186.85', 'POST /docs/api HTTP/1.0', '200', 4992), ('180.13.230.30', 'DELETE /auth/register HTTP/1.0', '200', 5009), ('82.67.67.141', 'GET /blog/latest HTTP/1.0', '401', 4951), ('115.106.252.49', 'PUT /api/v1/products HTTP/1.0', '200', 4921), ('139.50.169.237', 'OPTIONS / HTTP/1.0', '500', 4990)]\n"
     ]
    }
   ],
   "execution_count": 7
  },
  {
   "metadata": {
    "ExecuteTime": {
     "end_time": "2025-07-31T09:16:47.972991Z",
     "start_time": "2025-07-31T09:16:46.567720Z"
    }
   },
   "cell_type": "code",
   "source": [
    "# 4. Посчитайте общее количество запросов\n",
    "total_requests = parsed_rdd.count()\n",
    "print(f\"Total requests: {total_requests}\")"
   ],
   "id": "4aa066ed923e8502",
   "outputs": [
    {
     "name": "stdout",
     "output_type": "stream",
     "text": [
      "Total requests: 10000\n"
     ]
    }
   ],
   "execution_count": 8
  },
  {
   "metadata": {
    "ExecuteTime": {
     "end_time": "2025-07-31T09:16:49.345892Z",
     "start_time": "2025-07-31T09:16:47.979610Z"
    }
   },
   "cell_type": "code",
   "source": [
    "# 5. Рассчитайте средний размер ответа сервера (в байтах) по всем запросам\n",
    "average_response_size = parsed_rdd.map(lambda x: x[3]).mean()\n",
    "print(f\"Average response size: {average_response_size:.2f} bytes\")"
   ],
   "id": "7850b58938b980c9",
   "outputs": [
    {
     "name": "stdout",
     "output_type": "stream",
     "text": [
      "Average response size: 4999.05 bytes\n"
     ]
    }
   ],
   "execution_count": 9
  },
  {
   "metadata": {
    "ExecuteTime": {
     "end_time": "2025-07-31T09:16:52.175016Z",
     "start_time": "2025-07-31T09:16:49.352212Z"
    }
   },
   "cell_type": "code",
   "source": [
    "# 6. Определите количество уникальных IP-адресов, которые обращались к серверу\n",
    "unique_ips = parsed_rdd.map(lambda x: x[0]).distinct().count()\n",
    "print(f\"Unique IP addresses: {unique_ips}\")"
   ],
   "id": "3fa8b20b77aa9a3b",
   "outputs": [
    {
     "name": "stdout",
     "output_type": "stream",
     "text": [
      "Unique IP addresses: 10000\n"
     ]
    }
   ],
   "execution_count": 10
  },
  {
   "metadata": {
    "ExecuteTime": {
     "end_time": "2025-07-31T09:16:54.895474Z",
     "start_time": "2025-07-31T09:16:52.181100Z"
    }
   },
   "cell_type": "code",
   "source": [
    "# 7. Посчитайте количество запросов для каждого HTTP-статус-кода (например, сколько 200, сколько 404, сколько 500)\n",
    "status_counts = parsed_rdd.map(lambda x: (x[2], 1)).reduceByKey(lambda a, b: a + b)\n",
    "print(\"Status code counts:\")\n",
    "for status, count in status_counts.collect():\n",
    "    print(f\"{status}: {count}\")"
   ],
   "id": "13aea25ece2218f2",
   "outputs": [
    {
     "name": "stdout",
     "output_type": "stream",
     "text": [
      "Status code counts:\n",
      "200: 3850\n",
      "401: 781\n",
      "500: 797\n",
      "301: 780\n",
      "302: 773\n",
      "403: 735\n",
      "404: 820\n",
      "502: 730\n",
      "400: 734\n"
     ]
    }
   ],
   "execution_count": 11
  },
  {
   "metadata": {
    "ExecuteTime": {
     "end_time": "2025-07-31T09:16:56.254465Z",
     "start_time": "2025-07-31T09:16:54.901989Z"
    }
   },
   "cell_type": "code",
   "source": [
    "# 8. Определите долю успешных запросов (статус-код 200) от общего числа запросов в процента\n",
    "successful_requests = status_counts.filter(lambda x: x[0] == \"200\").collect()\n",
    "total_successful = successful_requests[0][1] if successful_requests else 0\n",
    "success_rate = (total_successful / total_requests) * 100 if total_requests > 0 else 0\n",
    "print(f\"Success rate: {success_rate:.2f}%\")"
   ],
   "id": "5b2d1bf6ea088e62",
   "outputs": [
    {
     "name": "stdout",
     "output_type": "stream",
     "text": [
      "Success rate: 38.50%\n"
     ]
    }
   ],
   "execution_count": 12
  },
  {
   "metadata": {
    "ExecuteTime": {
     "end_time": "2025-07-31T09:16:59.101196Z",
     "start_time": "2025-07-31T09:16:56.354904Z"
    }
   },
   "cell_type": "code",
   "source": [
    "# 9. Найдите Топ-5 самых часто запрашиваемых эндпоинтов. \n",
    "# Эндпоинт - это часть URL-адреса, которая указывает на конкретный ресурс или функцию на сервере, к которой обращается клиент. \n",
    "# Например, в запросе \"GET /api/v1/users HTTP/1.0\" эндпоинтом является /api/v1/users.\n",
    "\n",
    "def extract_endpoint(request):\n",
    "    parts = request.split()\n",
    "    return parts[1] if len(parts) > 1 else None\n",
    "\n",
    "top_endpoints = parsed_rdd.map(lambda x: (extract_endpoint(x[1]), 1)) \\\n",
    "    .reduceByKey(lambda a, b: a + b) \\\n",
    "    .takeOrdered(5, key=lambda x: -x[1])\n",
    "\n",
    "print(\"Top 5 endpoints:\")\n",
    "for endpoint, count in top_endpoints:\n",
    "    print(f\"{endpoint}: {count} requests\")"
   ],
   "id": "81ab974ec1987893",
   "outputs": [
    {
     "name": "stdout",
     "output_type": "stream",
     "text": [
      "Top 5 endpoints:\n",
      "/search?q=spark: 952 requests\n",
      "/docs/api: 949 requests\n",
      "/admin/dashboard: 935 requests\n",
      "/auth/register: 929 requests\n",
      "/: 913 requests\n"
     ]
    }
   ],
   "execution_count": 13
  },
  {
   "metadata": {
    "ExecuteTime": {
     "end_time": "2025-07-31T09:17:01.916444Z",
     "start_time": "2025-07-31T09:16:59.170720Z"
    }
   },
   "cell_type": "code",
   "source": [
    "# 10. Посчитайте, сколько запросов каждого типа (GET, POST, PUT и т.д.) было сделано\n",
    "def get_request_type(request):\n",
    "    return request.split()[0] if request else None\n",
    "\n",
    "request_type_counts = parsed_rdd.map(lambda x: (get_request_type(x[1]), 1)) \\\n",
    "    .reduceByKey(lambda a, b: a + b) \\\n",
    "    .collect()\n",
    "print(\"Request type counts:\")\n",
    "for request_type, count in request_type_counts:\n",
    "    print(f\"{request_type}: {count} requests\")"
   ],
   "id": "171f9d4bc97f2198",
   "outputs": [
    {
     "name": "stdout",
     "output_type": "stream",
     "text": [
      "Request type counts:\n",
      "PUT: 1640 requests\n",
      "HEAD: 1669 requests\n",
      "POST: 1641 requests\n",
      "DELETE: 1711 requests\n",
      "GET: 1677 requests\n",
      "OPTIONS: 1662 requests\n"
     ]
    }
   ],
   "execution_count": 14
  }
 ],
 "metadata": {
  "kernelspec": {
   "display_name": "Python 3",
   "language": "python",
   "name": "python3"
  },
  "language_info": {
   "codemirror_mode": {
    "name": "ipython",
    "version": 2
   },
   "file_extension": ".py",
   "mimetype": "text/x-python",
   "name": "python",
   "nbconvert_exporter": "python",
   "pygments_lexer": "ipython2",
   "version": "2.7.6"
  }
 },
 "nbformat": 4,
 "nbformat_minor": 5
}
