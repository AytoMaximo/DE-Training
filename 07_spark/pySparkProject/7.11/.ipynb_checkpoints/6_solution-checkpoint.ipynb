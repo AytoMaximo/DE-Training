{
 "cells": [
  {
   "cell_type": "code",
   "id": "initial_id",
   "metadata": {
    "collapsed": true,
    "ExecuteTime": {
     "end_time": "2025-07-31T10:05:18.767922Z",
     "start_time": "2025-07-31T10:05:18.764777Z"
    }
   },
   "source": [
    "from pyspark.sql import SparkSession, functions as F\n",
    "from pyspark.sql.functions import col, coalesce, lit\n",
    "from datetime import date"
   ],
   "outputs": [],
   "execution_count": 16
  },
  {
   "metadata": {
    "ExecuteTime": {
     "end_time": "2025-07-31T09:56:35.687985Z",
     "start_time": "2025-07-31T09:56:31.098005Z"
    }
   },
   "cell_type": "code",
   "source": [
    "# 1. Создаем сессию Spark\n",
    "spark = SparkSession.builder \\\n",
    "    .appName(\"UsersActivity\") \\\n",
    "    .getOrCreate()"
   ],
   "id": "a16f699df6510da1",
   "outputs": [],
   "execution_count": 2
  },
  {
   "metadata": {
    "ExecuteTime": {
     "end_time": "2025-07-31T09:57:35.263034Z",
     "start_time": "2025-07-31T09:57:35.257061Z"
    }
   },
   "cell_type": "code",
   "source": [
    "data = [\n",
    "    (101, date(2025, 1, 1), {\"mobile\": 3, \"desktop\": 1}, [\"/home\", \"/products\", \"/cart\"], 4.5),\n",
    "    (102, date(2025, 1, 1), {\"desktop\": 2}, [\"/home\", \"/about\"], 3.0),\n",
    "    (101, date(2025, 1, 2), {\"mobile\": 2}, [\"/products\", \"/checkout\"], None),\n",
    "    (103, date(2025, 1, 2), {\"tablet\": 1, \"mobile\": 1}, [\"/blog\", \"/contact\"], 5.0), \n",
    "    (104, date(2025, 1, 3), {\"desktop\": 4}, [\"/dashboard\"], 3.5),\n",
    "    (101, date(2025, 1, 3), {\"mobile\": 1, \"desktop\": 1}, [\"/home\", \"/products\"], 4.0),\n",
    "    (105, date(2025, 1, 4), {\"mobile\": 5}, [\"/faq\"], None),\n",
    "    (102, date(2025, 1, 4), {\"desktop\": 1, \"mobile\": 1}, [\"/settings\"], 3.8),\n",
    "    (103, date(2025, 1, 5), {\"tablet\": 2}, [\"/products\"], 4.2), \n",
    "    (106, date(2025, 1, 5), {\"desktop\": 3, \"mobile\": 2}, [\"/login\", \"/profile\", \"/home\"], 4.7),\n",
    "    (101, date(2025, 1, 6), {\"mobile\": 1}, [\"/cart\", \"/checkout\"], 4.0),\n",
    "    (104, date(2025, 1, 6), {\"desktop\": 2, \"tablet\": 1}, [\"/contact\"], None),\n",
    "    (105, date(2025, 1, 7), {\"mobile\": 3, \"desktop\": 1}, [\"/pricing\"], 4.1),\n",
    "    (106, date(2025, 1, 7), {\"desktop\": 1}, [\"/home\", \"/about\"], 3.9),\n",
    "    (107, date(2025, 1, 8), {\"mobile\": 4, \"tablet\": 2}, [\"/products\", \"/blog\"], 4.9) \n",
    "]"
   ],
   "id": "2866c87e4620d208",
   "outputs": [],
   "execution_count": 4
  },
  {
   "metadata": {
    "ExecuteTime": {
     "end_time": "2025-07-31T09:58:34.816109Z",
     "start_time": "2025-07-31T09:58:33.873616Z"
    }
   },
   "cell_type": "code",
   "source": [
    "# 2. Создаем DataFrame\n",
    "df = spark.createDataFrame(data, [\"user_id\", \"activity_date\", \"sessions_by_device\", \"visited_pages\", \"usability_rating\"])"
   ],
   "id": "960306a074d5ac4b",
   "outputs": [],
   "execution_count": 5
  },
  {
   "metadata": {
    "ExecuteTime": {
     "end_time": "2025-07-31T09:58:43.073034Z",
     "start_time": "2025-07-31T09:58:43.065701Z"
    }
   },
   "cell_type": "code",
   "source": [
    "# 3. Выводим схему DataFrame\n",
    "df.printSchema()"
   ],
   "id": "20a30a5f6df55d5a",
   "outputs": [
    {
     "name": "stdout",
     "output_type": "stream",
     "text": [
      "root\n",
      " |-- user_id: long (nullable = true)\n",
      " |-- activity_date: date (nullable = true)\n",
      " |-- sessions_by_device: map (nullable = true)\n",
      " |    |-- key: string\n",
      " |    |-- value: long (valueContainsNull = true)\n",
      " |-- visited_pages: array (nullable = true)\n",
      " |    |-- element: string (containsNull = true)\n",
      " |-- usability_rating: double (nullable = true)\n",
      "\n"
     ]
    }
   ],
   "execution_count": 6
  },
  {
   "metadata": {
    "ExecuteTime": {
     "end_time": "2025-07-31T09:59:24.275720Z",
     "start_time": "2025-07-31T09:59:15.138464Z"
    }
   },
   "cell_type": "code",
   "source": [
    "# 4. Выводим первые 5 строк DataFrame\n",
    "df.show(5, truncate=False)"
   ],
   "id": "76450e56f82b9803",
   "outputs": [
    {
     "name": "stdout",
     "output_type": "stream",
     "text": [
      "+-------+-------------+---------------------------+-------------------------+----------------+\n",
      "|user_id|activity_date|sessions_by_device         |visited_pages            |usability_rating|\n",
      "+-------+-------------+---------------------------+-------------------------+----------------+\n",
      "|101    |2025-01-01   |{mobile -> 3, desktop -> 1}|[/home, /products, /cart]|4.5             |\n",
      "|102    |2025-01-01   |{desktop -> 2}             |[/home, /about]          |3.0             |\n",
      "|101    |2025-01-02   |{mobile -> 2}              |[/products, /checkout]   |NULL            |\n",
      "|103    |2025-01-02   |{mobile -> 1, tablet -> 1} |[/blog, /contact]        |5.0             |\n",
      "|104    |2025-01-03   |{desktop -> 4}             |[/dashboard]             |3.5             |\n",
      "+-------+-------------+---------------------------+-------------------------+----------------+\n",
      "only showing top 5 rows\n"
     ]
    }
   ],
   "execution_count": 7
  },
  {
   "metadata": {
    "ExecuteTime": {
     "end_time": "2025-07-31T10:01:53.527570Z",
     "start_time": "2025-07-31T10:01:45.241744Z"
    }
   },
   "cell_type": "code",
   "source": [
    "# 5. Рассчитайте total_sessions_count для каждой записи (строки): \n",
    "# Создайте новую колонку total_sessions_count. \n",
    "# Значение этой колонки должно быть суммой количества сессий по всем устройствам (mobile, desktop, tablet) для каждой записи. \n",
    "\n",
    "df_with_total_sessions = df.withColumn(\n",
    "    \"total_sessions_count\",\n",
    "    coalesce(col(\"sessions_by_device.mobile\"), lit(0)) +\n",
    "    coalesce(col(\"sessions_by_device.desktop\"), lit(0)) +\n",
    "    coalesce(col(\"sessions_by_device.tablet\"), lit(0))\n",
    ")\n",
    "print(\"Total sessions count added:\")\n",
    "df_with_total_sessions.show(5, truncate=False)"
   ],
   "id": "f2cb855c59834481",
   "outputs": [
    {
     "name": "stdout",
     "output_type": "stream",
     "text": [
      "Total sessions count added:\n",
      "+-------+-------------+---------------------------+-------------------------+----------------+--------------------+\n",
      "|user_id|activity_date|sessions_by_device         |visited_pages            |usability_rating|total_sessions_count|\n",
      "+-------+-------------+---------------------------+-------------------------+----------------+--------------------+\n",
      "|101    |2025-01-01   |{mobile -> 3, desktop -> 1}|[/home, /products, /cart]|4.5             |4                   |\n",
      "|102    |2025-01-01   |{desktop -> 2}             |[/home, /about]          |3.0             |2                   |\n",
      "|101    |2025-01-02   |{mobile -> 2}              |[/products, /checkout]   |NULL            |2                   |\n",
      "|103    |2025-01-02   |{mobile -> 1, tablet -> 1} |[/blog, /contact]        |5.0             |2                   |\n",
      "|104    |2025-01-03   |{desktop -> 4}             |[/dashboard]             |3.5             |4                   |\n",
      "+-------+-------------+---------------------------+-------------------------+----------------+--------------------+\n",
      "only showing top 5 rows\n"
     ]
    }
   ],
   "execution_count": 11
  },
  {
   "metadata": {
    "ExecuteTime": {
     "end_time": "2025-07-31T10:02:39.791266Z",
     "start_time": "2025-07-31T10:02:31.714357Z"
    }
   },
   "cell_type": "code",
   "source": [
    "# 6. Извлеките количество мобильных сессий: \n",
    "# Создайте новую колонку mobile_sessions, которая будет содержать количество сессий, проведенных с \"mobile\" устройства из sessions_by_device. \n",
    "# Если данных о \"mobile\" устройстве нет в данных для данной записи, значение должно быть 0.\n",
    "df_with_mobile_sessions = df_with_total_sessions.withColumn(\n",
    "    \"mobile_sessions\",\n",
    "    coalesce(col(\"sessions_by_device.mobile\"), lit(0))\n",
    ")\n",
    "print(\"Mobile sessions added:\")\n",
    "df_with_mobile_sessions.show(5, truncate=False)"
   ],
   "id": "c77002ee7ea58598",
   "outputs": [
    {
     "name": "stdout",
     "output_type": "stream",
     "text": [
      "Mobile sessions added:\n",
      "+-------+-------------+---------------------------+-------------------------+----------------+--------------------+---------------+\n",
      "|user_id|activity_date|sessions_by_device         |visited_pages            |usability_rating|total_sessions_count|mobile_sessions|\n",
      "+-------+-------------+---------------------------+-------------------------+----------------+--------------------+---------------+\n",
      "|101    |2025-01-01   |{mobile -> 3, desktop -> 1}|[/home, /products, /cart]|4.5             |4                   |3              |\n",
      "|102    |2025-01-01   |{desktop -> 2}             |[/home, /about]          |3.0             |2                   |0              |\n",
      "|101    |2025-01-02   |{mobile -> 2}              |[/products, /checkout]   |NULL            |2                   |2              |\n",
      "|103    |2025-01-02   |{mobile -> 1, tablet -> 1} |[/blog, /contact]        |5.0             |2                   |1              |\n",
      "|104    |2025-01-03   |{desktop -> 4}             |[/dashboard]             |3.5             |4                   |0              |\n",
      "+-------+-------------+---------------------------+-------------------------+----------------+--------------------+---------------+\n",
      "only showing top 5 rows\n"
     ]
    }
   ],
   "execution_count": 12
  },
  {
   "metadata": {
    "ExecuteTime": {
     "end_time": "2025-07-31T10:03:20.997829Z",
     "start_time": "2025-07-31T10:03:08.603774Z"
    }
   },
   "cell_type": "code",
   "source": [
    "# 7. Для каждого пользователя рассчитайте total_sessions_all_time: Это общее количество всех сессий пользователя за весь период наблюдений. Отсортируйте результат по total_sessions_all_time в порядке убывания.\n",
    "total_sessions_all_time = df_with_mobile_sessions.groupBy(\"user_id\") \\\n",
    "    .agg({\"total_sessions_count\": \"sum\"}) \\\n",
    "    .withColumnRenamed(\"sum(total_sessions_count)\", \"total_sessions_all_time\") \\\n",
    "    .orderBy(col(\"total_sessions_all_time\").desc())\n",
    "print(\"Total sessions all time for each user:\")\n",
    "total_sessions_all_time.show(truncate=False)"
   ],
   "id": "f8ac78817c0be2cf",
   "outputs": [
    {
     "name": "stdout",
     "output_type": "stream",
     "text": [
      "Total sessions all time for each user:\n",
      "+-------+-----------------------+\n",
      "|user_id|total_sessions_all_time|\n",
      "+-------+-----------------------+\n",
      "|101    |9                      |\n",
      "|105    |9                      |\n",
      "|104    |7                      |\n",
      "|106    |6                      |\n",
      "|107    |6                      |\n",
      "|102    |4                      |\n",
      "|103    |4                      |\n",
      "+-------+-----------------------+\n",
      "\n"
     ]
    }
   ],
   "execution_count": 13
  },
  {
   "metadata": {
    "ExecuteTime": {
     "end_time": "2025-07-31T10:05:35.234098Z",
     "start_time": "2025-07-31T10:05:22.253790Z"
    }
   },
   "cell_type": "code",
   "source": [
    "# 8. Для каждого пользователя получите unique_visited_pages_all_time: Это список всех уникальных посещенных страниц пользователя за весь период.\n",
    "unique_visited_pages_all_time = df_with_mobile_sessions \\\n",
    "    .withColumn(\"page\", F.explode_outer(\"visited_pages\")) \\\n",
    "    .groupBy(\"user_id\") \\\n",
    "    .agg(F.collect_set(\"page\").alias(\"unique_visited_pages_all_time\"))\n",
    "\n",
    "print(\"Unique visited pages all time for each user:\")\n",
    "unique_visited_pages_all_time.show(truncate=False)"
   ],
   "id": "88691968e041f622",
   "outputs": [
    {
     "name": "stdout",
     "output_type": "stream",
     "text": [
      "Unique visited pages all time for each user:\n",
      "+-------+------------------------------------+\n",
      "|user_id|unique_visited_pages_all_time       |\n",
      "+-------+------------------------------------+\n",
      "|101    |[/products, /checkout, /home, /cart]|\n",
      "|102    |[/about, /settings, /home]          |\n",
      "|103    |[/products, /contact, /blog]        |\n",
      "|104    |[/dashboard, /contact]              |\n",
      "|105    |[/pricing, /faq]                    |\n",
      "|106    |[/profile, /about, /login, /home]   |\n",
      "|107    |[/products, /blog]                  |\n",
      "+-------+------------------------------------+\n",
      "\n"
     ]
    }
   ],
   "execution_count": 17
  },
  {
   "metadata": {
    "ExecuteTime": {
     "end_time": "2025-07-31T10:06:16.476581Z",
     "start_time": "2025-07-31T10:06:04.661730Z"
    }
   },
   "cell_type": "code",
   "source": [
    "# 9. Отфильтруйте DataFrame df_user_activity, чтобы показать только те записи, где usability_rating выше 3.5. Отсортируйте результат по usability_rating в порядке убывания.\n",
    "filtered_user_activity = df_with_mobile_sessions \\\n",
    "    .filter(col(\"usability_rating\") > 3.5) \\\n",
    "    .orderBy(col(\"usability_rating\").desc())\n",
    "print(\"Filtered user activity with usability_rating > 3.5:\")\n",
    "filtered_user_activity.show(truncate=False)"
   ],
   "id": "f396bca6a13c36b3",
   "outputs": [
    {
     "name": "stdout",
     "output_type": "stream",
     "text": [
      "Filtered user activity with usability_rating > 3.5:\n",
      "+-------+-------------+---------------------------+-------------------------+----------------+--------------------+---------------+\n",
      "|user_id|activity_date|sessions_by_device         |visited_pages            |usability_rating|total_sessions_count|mobile_sessions|\n",
      "+-------+-------------+---------------------------+-------------------------+----------------+--------------------+---------------+\n",
      "|103    |2025-01-02   |{mobile -> 1, tablet -> 1} |[/blog, /contact]        |5.0             |2                   |1              |\n",
      "|107    |2025-01-08   |{mobile -> 4, tablet -> 2} |[/products, /blog]       |4.9             |6                   |4              |\n",
      "|106    |2025-01-05   |{mobile -> 2, desktop -> 3}|[/login, /profile, /home]|4.7             |5                   |2              |\n",
      "|101    |2025-01-01   |{mobile -> 3, desktop -> 1}|[/home, /products, /cart]|4.5             |4                   |3              |\n",
      "|103    |2025-01-05   |{tablet -> 2}              |[/products]              |4.2             |2                   |0              |\n",
      "|105    |2025-01-07   |{mobile -> 3, desktop -> 1}|[/pricing]               |4.1             |4                   |3              |\n",
      "|101    |2025-01-03   |{mobile -> 1, desktop -> 1}|[/home, /products]       |4.0             |2                   |1              |\n",
      "|101    |2025-01-06   |{mobile -> 1}              |[/cart, /checkout]       |4.0             |1                   |1              |\n",
      "|106    |2025-01-07   |{desktop -> 1}             |[/home, /about]          |3.9             |1                   |0              |\n",
      "|102    |2025-01-04   |{mobile -> 1, desktop -> 1}|[/settings]              |3.8             |2                   |1              |\n",
      "+-------+-------------+---------------------------+-------------------------+----------------+--------------------+---------------+\n",
      "\n"
     ]
    }
   ],
   "execution_count": 18
  }
 ],
 "metadata": {
  "kernelspec": {
   "display_name": "Python 3",
   "language": "python",
   "name": "python3"
  },
  "language_info": {
   "codemirror_mode": {
    "name": "ipython",
    "version": 2
   },
   "file_extension": ".py",
   "mimetype": "text/x-python",
   "name": "python",
   "nbconvert_exporter": "python",
   "pygments_lexer": "ipython2",
   "version": "2.7.6"
  }
 },
 "nbformat": 4,
 "nbformat_minor": 5
}
