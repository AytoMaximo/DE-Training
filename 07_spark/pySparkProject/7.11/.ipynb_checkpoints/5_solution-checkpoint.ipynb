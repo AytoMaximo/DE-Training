{
 "cells": [
  {
   "cell_type": "code",
   "id": "initial_id",
   "metadata": {
    "collapsed": true,
    "ExecuteTime": {
     "end_time": "2025-07-31T09:19:04.818231Z",
     "start_time": "2025-07-31T09:19:04.750859Z"
    }
   },
   "source": "from pyspark.sql import SparkSession",
   "outputs": [],
   "execution_count": 1
  },
  {
   "metadata": {
    "ExecuteTime": {
     "end_time": "2025-07-31T09:19:22.306460Z",
     "start_time": "2025-07-31T09:19:17.275135Z"
    }
   },
   "cell_type": "code",
   "source": [
    "# 1. Создаем сессию Spark\n",
    "spark = SparkSession.builder \\\n",
    "    .appName(\"SocialNetwork\") \\\n",
    "    .getOrCreate()"
   ],
   "id": "c7eb697e65122ae6",
   "outputs": [],
   "execution_count": 2
  },
  {
   "metadata": {
    "ExecuteTime": {
     "end_time": "2025-07-31T09:20:49.365514Z",
     "start_time": "2025-07-31T09:20:49.340274Z"
    }
   },
   "cell_type": "code",
   "source": [
    "# 2. Загружаем данные из posts.csv в RDD\n",
    "posts_rdd = spark.sparkContext.textFile(\"posts.csv\")"
   ],
   "id": "123ea79fa84a3590",
   "outputs": [],
   "execution_count": 6
  },
  {
   "metadata": {
    "ExecuteTime": {
     "end_time": "2025-07-31T09:22:05.975300Z",
     "start_time": "2025-07-31T09:22:05.971970Z"
    }
   },
   "cell_type": "code",
   "source": [
    "# 3. Пропускаем первую строку (заголовок)\n",
    "posts_rdd = posts_rdd.filter(lambda line: not line.startswith(\"Post_id,Post_Type,comments,likes\"))"
   ],
   "id": "21e42f346df821fb",
   "outputs": [],
   "execution_count": 8
  },
  {
   "metadata": {
    "ExecuteTime": {
     "end_time": "2025-07-31T09:22:09.286201Z",
     "start_time": "2025-07-31T09:22:08.509665Z"
    }
   },
   "cell_type": "code",
   "source": [
    "# Примеры строк в RDD\n",
    "posts_rdd.take(5)"
   ],
   "id": "462e24bc5570a5ca",
   "outputs": [
    {
     "data": {
      "text/plain": [
       "['101,Carousel,268,16382',\n",
       " '102,Reel,138,9267',\n",
       " '103,Reel,1089,10100',\n",
       " '104,Reel,271,6943',\n",
       " '105,Reel,145,17158']"
      ]
     },
     "execution_count": 9,
     "metadata": {},
     "output_type": "execute_result"
    }
   ],
   "execution_count": 9
  },
  {
   "metadata": {
    "ExecuteTime": {
     "end_time": "2025-07-31T09:23:10.582536Z",
     "start_time": "2025-07-31T09:23:10.578503Z"
    }
   },
   "cell_type": "code",
   "source": [
    "# 4. Напишите функцию парсинга , которая будет преобразовывать каждую строку в кортеж Python. При этом: \n",
    "#    - Post_id преобразуйте в int. \n",
    "#    - comments преобразуйте в int. \n",
    "#    - likes преобразуйте в int.\n",
    "#    - Post_Type оставьте как есть (строка).\n",
    "def parse_post(line):\n",
    "    parts = line.split(\",\")\n",
    "    post_id = int(parts[0])\n",
    "    post_type = parts[1]\n",
    "    comments = int(parts[2])\n",
    "    likes = int(parts[3])\n",
    "    return (post_id, post_type, comments, likes)"
   ],
   "id": "6a95d076894ef7a",
   "outputs": [],
   "execution_count": 10
  },
  {
   "metadata": {
    "ExecuteTime": {
     "end_time": "2025-07-31T09:23:21.180566Z",
     "start_time": "2025-07-31T09:23:21.177990Z"
    }
   },
   "cell_type": "code",
   "source": [
    "# 5. Примените функцию парсинга к RDD\n",
    "posts_parsed_rdd = posts_rdd.map(parse_post)"
   ],
   "id": "567b952587c8a769",
   "outputs": [],
   "execution_count": 11
  },
  {
   "metadata": {
    "ExecuteTime": {
     "end_time": "2025-07-31T09:23:32.105275Z",
     "start_time": "2025-07-31T09:23:31.306491Z"
    }
   },
   "cell_type": "code",
   "source": [
    "# Выводим первые 5 элементов для проверки\n",
    "posts_parsed_rdd.take(5)"
   ],
   "id": "8ee6cecd988d7a38",
   "outputs": [
    {
     "data": {
      "text/plain": [
       "[(101, 'Carousel', 268, 16382),\n",
       " (102, 'Reel', 138, 9267),\n",
       " (103, 'Reel', 1089, 10100),\n",
       " (104, 'Reel', 271, 6943),\n",
       " (105, 'Reel', 145, 17158)]"
      ]
     },
     "execution_count": 12,
     "metadata": {},
     "output_type": "execute_result"
    }
   ],
   "execution_count": 12
  },
  {
   "metadata": {
    "ExecuteTime": {
     "end_time": "2025-07-31T09:23:49.484543Z",
     "start_time": "2025-07-31T09:23:48.078269Z"
    }
   },
   "cell_type": "code",
   "source": [
    "# 6. Посчитайте общее количество постов в датасете\n",
    "total_posts = posts_parsed_rdd.count()\n",
    "print(f\"Total posts: {total_posts}\")"
   ],
   "id": "693ade9d5f8f8889",
   "outputs": [
    {
     "name": "stdout",
     "output_type": "stream",
     "text": [
      "Total posts: 39\n"
     ]
    }
   ],
   "execution_count": 13
  },
  {
   "metadata": {
    "ExecuteTime": {
     "end_time": "2025-07-31T09:24:13.943239Z",
     "start_time": "2025-07-31T09:24:12.566911Z"
    }
   },
   "cell_type": "code",
   "source": [
    "# 7. Посчитайте общее количество лайков по всем постам\n",
    "total_likes = posts_parsed_rdd.map(lambda x: x[3]).reduce(lambda a, b: a + b)\n",
    "print(f\"Total likes: {total_likes}\")"
   ],
   "id": "96a4bb2c458b364b",
   "outputs": [
    {
     "name": "stdout",
     "output_type": "stream",
     "text": [
      "Total likes: 707567\n"
     ]
    }
   ],
   "execution_count": 14
  },
  {
   "metadata": {
    "ExecuteTime": {
     "end_time": "2025-07-31T09:24:22.085754Z",
     "start_time": "2025-07-31T09:24:20.719556Z"
    }
   },
   "cell_type": "code",
   "source": [
    "# 8. Посчитайте общее количество комментариев по всем постам\n",
    "total_comments = posts_parsed_rdd.map(lambda x: x[2]).reduce(lambda a, b: a + b)\n",
    "print(f\"Total comments: {total_comments}\")"
   ],
   "id": "47c3fb10e4cc2bb8",
   "outputs": [
    {
     "name": "stdout",
     "output_type": "stream",
     "text": [
      "Total comments: 8387\n"
     ]
    }
   ],
   "execution_count": 15
  },
  {
   "metadata": {
    "ExecuteTime": {
     "end_time": "2025-07-31T09:24:48.317591Z",
     "start_time": "2025-07-31T09:24:48.314222Z"
    }
   },
   "cell_type": "code",
   "source": [
    "# 9. Определите среднее количество лайков на один пост.\n",
    "# Округлите результат до одного знака после запятой\n",
    "average_likes = round(total_likes / total_posts, 1)\n",
    "print(f\"Average likes per post: {average_likes}\")"
   ],
   "id": "ade1dd4b10fa0a90",
   "outputs": [
    {
     "name": "stdout",
     "output_type": "stream",
     "text": [
      "Average likes per post: 18142.7\n"
     ]
    }
   ],
   "execution_count": 16
  },
  {
   "metadata": {
    "ExecuteTime": {
     "end_time": "2025-07-31T09:25:00.248530Z",
     "start_time": "2025-07-31T09:25:00.245516Z"
    }
   },
   "cell_type": "code",
   "source": [
    "# 10. Определите среднее количество комментариев на один пост.\n",
    "# Округлите результат до одного знака после запятой\n",
    "average_comments = round(total_comments / total_posts, 1)\n",
    "print(f\"Average comments per post: {average_comments}\")"
   ],
   "id": "bca7f6596e66939e",
   "outputs": [
    {
     "name": "stdout",
     "output_type": "stream",
     "text": [
      "Average comments per post: 215.1\n"
     ]
    }
   ],
   "execution_count": 17
  },
  {
   "metadata": {
    "ExecuteTime": {
     "end_time": "2025-07-31T09:25:34.601490Z",
     "start_time": "2025-07-31T09:25:31.676380Z"
    }
   },
   "cell_type": "code",
   "source": [
    "# 11. Посчитайте количество постов каждого типа\n",
    "post_type_counts = posts_parsed_rdd.map(lambda x: (x[1], 1)).reduceByKey(lambda a, b: a + b)\n",
    "print(\"Post type counts:\")\n",
    "for post_type, count in post_type_counts.collect():\n",
    "    print(f\"{post_type}: {count}\")"
   ],
   "id": "11f2de9ca33e8838",
   "outputs": [
    {
     "name": "stdout",
     "output_type": "stream",
     "text": [
      "Post type counts:\n",
      "Carousel: 14\n",
      "Reel: 14\n",
      "Image: 11\n"
     ]
    }
   ],
   "execution_count": 19
  },
  {
   "metadata": {
    "ExecuteTime": {
     "end_time": "2025-07-31T09:25:52.271974Z",
     "start_time": "2025-07-31T09:25:49.501137Z"
    }
   },
   "cell_type": "code",
   "source": [
    "# 12. Для каждого типа поста рассчитайте среднее количество лайков.  Округлите результат до одного знака после запятой.\n",
    "average_likes_by_type = posts_parsed_rdd.map(lambda x: (x[1], (x[3], 1))) \\\n",
    "    .reduceByKey(lambda a, b: (a[0] + b[0], a[1] + b[1])) \\\n",
    "    .mapValues(lambda x: round(x[0] / x[1], 1))\n",
    "print(\"Average likes by post type:\")\n",
    "for post_type, avg_likes in average_likes_by_type.collect():\n",
    "    print(f\"{post_type}: {avg_likes}\")"
   ],
   "id": "bc44bd4b1ad070c1",
   "outputs": [
    {
     "name": "stdout",
     "output_type": "stream",
     "text": [
      "Average likes by post type:\n",
      "Carousel: 20814.3\n",
      "Reel: 15156.6\n",
      "Image: 18543.2\n"
     ]
    }
   ],
   "execution_count": 20
  },
  {
   "metadata": {
    "ExecuteTime": {
     "end_time": "2025-07-31T09:26:10.486180Z",
     "start_time": "2025-07-31T09:26:07.663608Z"
    }
   },
   "cell_type": "code",
   "source": [
    "# 13. Для каждого типа поста рассчитайте среднее количество комментариев.  Округлите результат до одного знака после запятой.\n",
    "average_comments_by_type = posts_parsed_rdd.map(lambda x: (x[1], (x[2], 1))) \\\n",
    "    .reduceByKey(lambda a, b: (a[0] + b[0], a[1] + b[1])) \\\n",
    "    .mapValues(lambda x: round(x[0] / x[1], 1))\n",
    "print(\"Average comments by post type:\")\n",
    "for post_type, avg_comments in average_comments_by_type.collect():\n",
    "    print(f\"{post_type}: {avg_comments}\")"
   ],
   "id": "5dce3e7f0e7a40a4",
   "outputs": [
    {
     "name": "stdout",
     "output_type": "stream",
     "text": [
      "Average comments by post type:\n",
      "Carousel: 174.3\n",
      "Reel: 316.7\n",
      "Image: 137.5\n"
     ]
    }
   ],
   "execution_count": 21
  },
  {
   "metadata": {
    "ExecuteTime": {
     "end_time": "2025-07-31T09:26:26.021738Z",
     "start_time": "2025-07-31T09:26:24.628745Z"
    }
   },
   "cell_type": "code",
   "source": [
    "# 14. Найдите Топ-5 постов с наибольшим количеством лайков. Выведите их Post_id, Post_Type , likes.\n",
    "top_5_liked_posts = posts_parsed_rdd.takeOrdered(5, key=lambda x: -x[3])\n",
    "print(\"Top 5 liked posts:\")\n",
    "for post in top_5_liked_posts:\n",
    "    print(f\"Post_id: {post[0]}, Post_Type: {post[1]}, Likes: {post[3]}\")"
   ],
   "id": "4332b1690be3f6aa",
   "outputs": [
    {
     "name": "stdout",
     "output_type": "stream",
     "text": [
      "Top 5 liked posts:\n",
      "Post_id: 125, Post_Type: Carousel, Likes: 79000\n",
      "Post_id: 131, Post_Type: Carousel, Likes: 59716\n",
      "Post_id: 133, Post_Type: Carousel, Likes: 58485\n",
      "Post_id: 132, Post_Type: Image, Likes: 53254\n",
      "Post_id: 122, Post_Type: Image, Likes: 50523\n"
     ]
    }
   ],
   "execution_count": 22
  },
  {
   "metadata": {
    "ExecuteTime": {
     "end_time": "2025-07-31T09:26:42.189019Z",
     "start_time": "2025-07-31T09:26:40.649044Z"
    }
   },
   "cell_type": "code",
   "source": [
    "# 15. Найдите Топ-5 постов с наибольшим количеством комментариев. Выведите их Post_id, Post_Type , comments.\n",
    "top_5_commented_posts = posts_parsed_rdd.takeOrdered(5, key=lambda x: -x[2])\n",
    "print(\"Top 5 commented posts:\")\n",
    "for post in top_5_commented_posts:\n",
    "    print(f\"Post_id: {post[0]}, Post_Type: {post[1]}, Comments: {post[2]}\")"
   ],
   "id": "b0f9ef608c248551",
   "outputs": [
    {
     "name": "stdout",
     "output_type": "stream",
     "text": [
      "Top 5 commented posts:\n",
      "Post_id: 103, Post_Type: Reel, Comments: 1089\n",
      "Post_id: 109, Post_Type: Reel, Comments: 884\n",
      "Post_id: 123, Post_Type: Reel, Comments: 555\n",
      "Post_id: 131, Post_Type: Carousel, Comments: 507\n",
      "Post_id: 125, Post_Type: Carousel, Comments: 466\n"
     ]
    }
   ],
   "execution_count": 23
  }
 ],
 "metadata": {
  "kernelspec": {
   "display_name": "Python 3",
   "language": "python",
   "name": "python3"
  },
  "language_info": {
   "codemirror_mode": {
    "name": "ipython",
    "version": 2
   },
   "file_extension": ".py",
   "mimetype": "text/x-python",
   "name": "python",
   "nbconvert_exporter": "python",
   "pygments_lexer": "ipython2",
   "version": "2.7.6"
  }
 },
 "nbformat": 4,
 "nbformat_minor": 5
}
