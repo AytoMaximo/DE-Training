{
 "cells": [
  {
   "cell_type": "code",
   "id": "initial_id",
   "metadata": {
    "collapsed": true,
    "jupyter": {
     "outputs_hidden": true
    },
    "ExecuteTime": {
     "end_time": "2025-07-31T08:46:32.292309Z",
     "start_time": "2025-07-31T08:46:32.224282Z"
    }
   },
   "source": [
    "from pyspark.sql import SparkSession"
   ],
   "outputs": [],
   "execution_count": 1
  },
  {
   "cell_type": "code",
   "id": "afd05bd424a38f36",
   "metadata": {
    "ExecuteTime": {
     "end_time": "2025-07-31T08:46:36.992937Z",
     "start_time": "2025-07-31T08:46:32.298671Z"
    }
   },
   "source": [
    "# 1. Создаем сессию Spark\n",
    "spark = SparkSession.builder \\\n",
    "    .appName(\"SensorLogs\") \\\n",
    "    .getOrCreate()"
   ],
   "outputs": [],
   "execution_count": 2
  },
  {
   "cell_type": "code",
   "id": "e50707d9a5d02ae9",
   "metadata": {
    "ExecuteTime": {
     "end_time": "2025-07-31T08:46:37.369380Z",
     "start_time": "2025-07-31T08:46:37.156145Z"
    }
   },
   "source": [
    "# 2. Создаем RDD из sensor_logs.txt\n",
    "rdd = spark.sparkContext.textFile(\"sensor_logs.txt\")"
   ],
   "outputs": [],
   "execution_count": 3
  },
  {
   "cell_type": "code",
   "id": "17d41c04dd52d5d9",
   "metadata": {
    "ExecuteTime": {
     "end_time": "2025-07-31T08:46:37.391674Z",
     "start_time": "2025-07-31T08:46:37.376675Z"
    }
   },
   "source": [
    "# 3. Разделим текст на строки, используя разделитель '\\n' \n",
    "lines_rdd = rdd.flatMap(lambda line: line.split('\\n'))\n",
    "\n",
    "# 4. Разделим каждую строку на отдельные поля, используя символ | как разделитель\n",
    "fields_rdd = lines_rdd.map(lambda line: line.split('|'))"
   ],
   "outputs": [],
   "execution_count": 4
  },
  {
   "cell_type": "code",
   "id": "7f52e382995db41a",
   "metadata": {
    "ExecuteTime": {
     "end_time": "2025-07-31T08:46:38.466905Z",
     "start_time": "2025-07-31T08:46:37.408293Z"
    }
   },
   "source": [
    "# Выведем первые 5 записей для проверки\n",
    "print(\"Первые 5 записей:\")\n",
    "for record in fields_rdd.take(5):\n",
    "    print(record)"
   ],
   "outputs": [
    {
     "name": "stdout",
     "output_type": "stream",
     "text": [
      "Первые 5 записей:\n",
      "['2025-01-10 08:00:05', 'S101', '25.3', '10.1', 'OK', 'NULL']\n",
      "['2025-01-10 08:05:10', 'S102', '26.1', 'NULL', 'WARNING', 'E01']\n",
      "['2025-01-10 08:10:00', 'S101', '25.5', '10.2', 'OK', 'NULL']\n",
      "['2025-01-10 08:15:30', 'S103', 'NULL', '9.9', 'ERROR', 'E05']\n",
      "['2025-01-10 08:20:15', 'S102', '25.8', '10.0', 'OK', 'NULL']\n"
     ]
    }
   ],
   "execution_count": 5
  },
  {
   "cell_type": "code",
   "id": "825371869ee51925",
   "metadata": {
    "ExecuteTime": {
     "end_time": "2025-07-31T08:46:38.476488Z",
     "start_time": "2025-07-31T08:46:38.473270Z"
    }
   },
   "source": [
    "# 5. Преобразуем поля (temperature, pressure) в соответствующий числовой тип (float). \n",
    "# Преобразуем NULL значения в None\n",
    "def parse_fields(fields):\n",
    "    try:\n",
    "        temperature = float(fields[2]) if fields[2] != 'NULL' else None\n",
    "        pressure = float(fields[3]) if fields[3] != 'NULL' else None\n",
    "        status = fields[4]\n",
    "        sensor_id = fields[1]\n",
    "        error_code = fields[5] if fields[5] != 'NULL' else None\n",
    "        timestamp = fields[0]\n",
    "        return (status, sensor_id, temperature, pressure, error_code, timestamp)\n",
    "    except ValueError:\n",
    "        return None\n",
    "    \n",
    "parsed_rdd = fields_rdd.map(parse_fields)"
   ],
   "outputs": [],
   "execution_count": 6
  },
  {
   "cell_type": "code",
   "id": "7c23427d340b4f29",
   "metadata": {
    "ExecuteTime": {
     "end_time": "2025-07-31T08:46:38.508698Z",
     "start_time": "2025-07-31T08:46:38.486836Z"
    }
   },
   "source": [
    "# 6. Посчитаем, сколько всего записей (активностей) было получено для каждого status (например, OK: X, WARNING: Y, ERROR: Z)\n",
    "status_count_rdd = parsed_rdd \\\n",
    "    .filter(lambda x: x is not None) \\\n",
    "    .map(lambda x: (x[0], 1)) \\\n",
    "    .reduceByKey(lambda a, b: a + b)"
   ],
   "outputs": [],
   "execution_count": 7
  },
  {
   "cell_type": "code",
   "id": "e2d1fbfd7591b669",
   "metadata": {
    "ExecuteTime": {
     "end_time": "2025-07-31T08:46:38.532730Z",
     "start_time": "2025-07-31T08:46:38.518730Z"
    }
   },
   "source": [
    "# 7. Определим sensor_id, которые сообщают о статусе ERROR и количество полученных ошибок каждым из них.\n",
    "error_count_rdd = parsed_rdd \\\n",
    "    .filter(lambda x: x is not None and x[0] == 'ERROR') \\\n",
    "    .map(lambda x: (x[1], 1)) \\\n",
    "    .reduceByKey(lambda a, b: a + b)"
   ],
   "outputs": [],
   "execution_count": 8
  },
  {
   "cell_type": "code",
   "id": "fc1223d1a804424f",
   "metadata": {
    "ExecuteTime": {
     "end_time": "2025-07-31T08:46:38.556941Z",
     "start_time": "2025-07-31T08:46:38.543082Z"
    }
   },
   "source": [
    "# 8. Рассчитаем среднюю temperature. \n",
    "# Исключим записи без температуры из расчета среднего. \n",
    "# Округлим до двух знаков после запятой.\n",
    "average_temp_rdd = parsed_rdd \\\n",
    "    .filter(lambda x: x is not None and x[2] is not None) \\\n",
    "    .map(lambda x: (1, (x[2], 1))) \\\n",
    "    .reduceByKey(lambda a, b: (a[0] + b[0], a[1] + b[1])) \\\n",
    "    .mapValues(lambda x: round(x[0] / x[1], 2))"
   ],
   "outputs": [],
   "execution_count": 9
  },
  {
   "cell_type": "code",
   "id": "1745f6aecbead0e4",
   "metadata": {
    "ExecuteTime": {
     "end_time": "2025-07-31T08:46:42.700782Z",
     "start_time": "2025-07-31T08:46:38.567765Z"
    }
   },
   "source": [
    "# 9. Для каждого error_code (если он не NULL), посчитаем общее количество его появлений. \n",
    "# Отсортируем результат по номеру кода.\n",
    "error_code_count_rdd = parsed_rdd \\\n",
    "    .filter(lambda x: x is not None and x[4] is not None) \\\n",
    "    .map(lambda x: (x[4], 1)) \\\n",
    "    .reduceByKey(lambda a, b: a + b) \\\n",
    "    .sortByKey()"
   ],
   "outputs": [],
   "execution_count": 10
  },
  {
   "cell_type": "code",
   "id": "6307c72044097bf3",
   "metadata": {
    "ExecuteTime": {
     "end_time": "2025-07-31T08:46:42.715018Z",
     "start_time": "2025-07-31T08:46:42.710788Z"
    }
   },
   "source": [
    "# 10. Отфильтруем RDD, чтобы получить только те записи, где pressure выше 10.0 и temperature выше 26.0.  \n",
    "# Для каждой отфильтрованной записи выведем кортеж (timestamp, sensor_id, temperature, pressure).\n",
    "filtered_rdd = parsed_rdd \\\n",
    "    .filter(lambda x: x is not None and x[2] is not None and x[3] is not None and x[3] > 10.0 and x[2] > 26.0) \\\n",
    "    .map(lambda x: (x[5], x[1], x[2], x[3]))"
   ],
   "outputs": [],
   "execution_count": 11
  },
  {
   "cell_type": "code",
   "id": "59d7dccaf76aff44",
   "metadata": {
    "ExecuteTime": {
     "end_time": "2025-07-31T08:46:42.728458Z",
     "start_time": "2025-07-31T08:46:42.725457Z"
    }
   },
   "source": [
    "# 11. Вывод всех результатов из шагов 6-10\n",
    "def print_rdd(rdd, title):\n",
    "    print(f\"{title}:\")\n",
    "    for item in rdd.collect():\n",
    "        print(item)\n",
    "    print()"
   ],
   "outputs": [],
   "execution_count": 12
  },
  {
   "cell_type": "code",
   "id": "21726b33b7e920e6",
   "metadata": {
    "ExecuteTime": {
     "end_time": "2025-07-31T08:46:45.455552Z",
     "start_time": "2025-07-31T08:46:42.735683Z"
    }
   },
   "source": [
    "print_rdd(status_count_rdd, \"Status Count\")"
   ],
   "outputs": [
    {
     "name": "stdout",
     "output_type": "stream",
     "text": [
      "Status Count:\n",
      "('WARNING', 6)\n",
      "('OK', 28)\n",
      "('ERROR', 6)\n",
      "\n"
     ]
    }
   ],
   "execution_count": 13
  },
  {
   "cell_type": "code",
   "id": "4f8f20f0bdcc7ce7",
   "metadata": {
    "ExecuteTime": {
     "end_time": "2025-07-31T08:46:48.149944Z",
     "start_time": "2025-07-31T08:46:45.462836Z"
    }
   },
   "source": [
    "print_rdd(error_count_rdd, \"Error Count\")"
   ],
   "outputs": [
    {
     "name": "stdout",
     "output_type": "stream",
     "text": [
      "Error Count:\n",
      "('S105', 1)\n",
      "('S103', 2)\n",
      "('S104', 3)\n",
      "\n"
     ]
    }
   ],
   "execution_count": 14
  },
  {
   "cell_type": "code",
   "id": "8d55ecc8f58b09a6",
   "metadata": {
    "ExecuteTime": {
     "end_time": "2025-07-31T08:46:50.855397Z",
     "start_time": "2025-07-31T08:46:48.157360Z"
    }
   },
   "source": [
    "print(f\"Average Temperature: {average_temp_rdd.collect()[0][1]}\")"
   ],
   "outputs": [
    {
     "name": "stdout",
     "output_type": "stream",
     "text": [
      "Average Temperature: 25.84\n"
     ]
    }
   ],
   "execution_count": 15
  },
  {
   "cell_type": "code",
   "id": "84fe201711f89550",
   "metadata": {
    "ExecuteTime": {
     "end_time": "2025-07-31T08:46:53.648422Z",
     "start_time": "2025-07-31T08:46:50.926293Z"
    }
   },
   "source": [
    "print_rdd(error_code_count_rdd, \"Error Code Count\")"
   ],
   "outputs": [
    {
     "name": "stdout",
     "output_type": "stream",
     "text": [
      "Error Code Count:\n",
      "('E01', 2)\n",
      "('E02', 2)\n",
      "('E03', 2)\n",
      "('E04', 2)\n",
      "('E05', 2)\n",
      "\n"
     ]
    }
   ],
   "execution_count": 16
  },
  {
   "cell_type": "code",
   "id": "6944ff04cc6718c4",
   "metadata": {
    "ExecuteTime": {
     "end_time": "2025-07-31T08:46:55.012259Z",
     "start_time": "2025-07-31T08:46:53.656635Z"
    }
   },
   "source": [
    "print_rdd(filtered_rdd, \"Filtered Records (Pressure > 10.0 and Temperature > 26.0)\")"
   ],
   "outputs": [
    {
     "name": "stdout",
     "output_type": "stream",
     "text": [
      "Filtered Records (Pressure > 10.0 and Temperature > 26.0):\n",
      "('2025-01-10 08:30:20', 'S104', 27.0, 10.3)\n",
      "('2025-01-11 09:00:00', 'S104', 27.2, 10.4)\n",
      "('2025-01-12 10:15:00', 'S102', 26.3, 10.2)\n",
      "('2025-01-13 11:00:00', 'S104', 27.3, 10.6)\n",
      "('2025-01-14 08:40:15', 'S101', 26.1, 10.6)\n",
      "('2025-01-14 08:45:00', 'S102', 26.4, 10.4)\n",
      "('2025-01-15 09:00:00', 'S104', 27.5, 10.7)\n",
      "('2025-01-15 09:10:00', 'S101', 26.2, 10.7)\n",
      "('2025-01-16 10:00:10', 'S104', 27.6, 10.8)\n",
      "('2025-01-16 10:10:15', 'S101', 26.3, 10.8)\n",
      "('2025-01-16 10:15:00', 'S102', 26.6, 10.5)\n",
      "\n"
     ]
    }
   ],
   "execution_count": 17
  }
 ],
 "metadata": {
  "kernelspec": {
   "display_name": "Python 3 (ipykernel)",
   "language": "python",
   "name": "python3"
  },
  "language_info": {
   "codemirror_mode": {
    "name": "ipython",
    "version": 3
   },
   "file_extension": ".py",
   "mimetype": "text/x-python",
   "name": "python",
   "nbconvert_exporter": "python",
   "pygments_lexer": "ipython3",
   "version": "3.11.9"
  }
 },
 "nbformat": 4,
 "nbformat_minor": 5
}
