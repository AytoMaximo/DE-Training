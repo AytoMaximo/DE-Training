{
 "cells": [
  {
   "metadata": {},
   "cell_type": "markdown",
   "source": "Исходные данные: Вам предоставлен датасет `retail_store_sales.csv` ,который содержит информацию о транзакциях в розничном магазине. Он включает информацию о продажах из восьми товарных категорий, в каждой из которых по 25 товаров со статичными ценами. Датасет содержит пропущенные значения, несогласованные данные и ошибки.",
   "id": "64aad5382f4caf14"
  },
  {
   "metadata": {},
   "cell_type": "markdown",
   "source": "## 1. Загрузка и предварительная обработка данных",
   "id": "5bf214faf1405a1e"
  },
  {
   "metadata": {},
   "cell_type": "markdown",
   "source": "### Инициализация",
   "id": "8fee95a3324b0556"
  },
  {
   "metadata": {
    "collapsed": true,
    "ExecuteTime": {
     "end_time": "2025-08-01T09:37:20.159410Z",
     "start_time": "2025-08-01T09:37:20.089167Z"
    }
   },
   "cell_type": "code",
   "source": [
    "# Импортируем необходимые библиотеки\n",
    "from pyspark.sql import SparkSession\n",
    "from pyspark.sql import functions as F\n",
    "from pyspark.sql.functions import col, isnan"
   ],
   "id": "initial_id",
   "outputs": [],
   "execution_count": 1
  },
  {
   "metadata": {
    "ExecuteTime": {
     "end_time": "2025-08-01T09:37:25.046924Z",
     "start_time": "2025-08-01T09:37:20.162414Z"
    }
   },
   "cell_type": "code",
   "source": [
    "# Создаем сессию Spark\n",
    "spark = SparkSession.builder \\\n",
    "    .appName(\"RetailStore\") \\\n",
    "    .getOrCreate()"
   ],
   "id": "69faadf5e7d53386",
   "outputs": [],
   "execution_count": 2
  },
  {
   "metadata": {
    "ExecuteTime": {
     "end_time": "2025-08-01T09:37:27.711261Z",
     "start_time": "2025-08-01T09:37:25.209478Z"
    }
   },
   "cell_type": "code",
   "source": [
    "# Загружаем данные о продажах из CSV-файла\n",
    "sales_df = spark.read.csv(\"retail_store_sales.csv\", header=True, inferSchema=True)"
   ],
   "id": "c6c88d2b032c83cb",
   "outputs": [],
   "execution_count": 3
  },
  {
   "metadata": {
    "ExecuteTime": {
     "end_time": "2025-08-01T09:37:28.164688Z",
     "start_time": "2025-08-01T09:37:27.766332Z"
    }
   },
   "cell_type": "code",
   "source": [
    "# Выводим схему и первые 5 строк данных\n",
    "sales_df.printSchema()\n",
    "sales_df.show(5)"
   ],
   "id": "aed56af04536da74",
   "outputs": [
    {
     "name": "stdout",
     "output_type": "stream",
     "text": [
      "root\n",
      " |-- Transaction ID: string (nullable = true)\n",
      " |-- Customer ID: string (nullable = true)\n",
      " |-- Category: string (nullable = true)\n",
      " |-- Item: string (nullable = true)\n",
      " |-- Price Per Unit: double (nullable = true)\n",
      " |-- Quantity: double (nullable = true)\n",
      " |-- Total Spent: double (nullable = true)\n",
      " |-- Payment Method: string (nullable = true)\n",
      " |-- Location: string (nullable = true)\n",
      " |-- Transaction Date: date (nullable = true)\n",
      " |-- Discount Applied: boolean (nullable = true)\n",
      "\n",
      "+--------------+-----------+-------------+------------+--------------+--------+-----------+--------------+--------+----------------+----------------+\n",
      "|Transaction ID|Customer ID|     Category|        Item|Price Per Unit|Quantity|Total Spent|Payment Method|Location|Transaction Date|Discount Applied|\n",
      "+--------------+-----------+-------------+------------+--------------+--------+-----------+--------------+--------+----------------+----------------+\n",
      "|   TXN_6867343|    CUST_09|   Patisserie| Item_10_PAT|          18.5|    10.0|      185.0|Digital Wallet|  Online|      2024-04-08|            true|\n",
      "|   TXN_3731986|    CUST_22|Milk Products|Item_17_MILK|          29.0|     9.0|      261.0|Digital Wallet|  Online|      2023-07-23|            true|\n",
      "|   TXN_9303719|    CUST_02|     Butchers| Item_12_BUT|          21.5|     2.0|       43.0|   Credit Card|  Online|      2022-10-05|           false|\n",
      "|   TXN_9458126|    CUST_06|    Beverages| Item_16_BEV|          27.5|     9.0|      247.5|   Credit Card|  Online|      2022-05-07|            NULL|\n",
      "|   TXN_4575373|    CUST_05|         Food| Item_6_FOOD|          12.5|     7.0|       87.5|Digital Wallet|  Online|      2022-10-02|           false|\n",
      "+--------------+-----------+-------------+------------+--------------+--------+-----------+--------------+--------+----------------+----------------+\n",
      "only showing top 5 rows\n"
     ]
    }
   ],
   "execution_count": 4
  },
  {
   "metadata": {},
   "cell_type": "markdown",
   "source": "### Переименование столбцов в snake_case",
   "id": "ece60b2ce0c90e28"
  },
  {
   "metadata": {
    "ExecuteTime": {
     "end_time": "2025-08-01T09:37:28.181424Z",
     "start_time": "2025-08-01T09:37:28.171076Z"
    }
   },
   "cell_type": "code",
   "source": [
    "def rename_columns_to_snake_case(df):\n",
    "    new_column_names = [col.replace(\" \", \"_\").lower() for col in df.columns]\n",
    "    return df.toDF(*new_column_names)\n",
    "\n",
    "# Переименовываем столбцы\n",
    "sales_df = rename_columns_to_snake_case(sales_df)"
   ],
   "id": "e1608f800a999f9f",
   "outputs": [],
   "execution_count": 5
  },
  {
   "metadata": {
    "ExecuteTime": {
     "end_time": "2025-08-01T09:37:28.348853Z",
     "start_time": "2025-08-01T09:37:28.188932Z"
    }
   },
   "cell_type": "code",
   "source": [
    "# Выводим схему и случайные 5 строк после переименования\n",
    "sales_df.printSchema()\n",
    "sales_df.sample(withReplacement=False, fraction=0.01).show(5)"
   ],
   "id": "6a52877478bbab0b",
   "outputs": [
    {
     "name": "stdout",
     "output_type": "stream",
     "text": [
      "root\n",
      " |-- transaction_id: string (nullable = true)\n",
      " |-- customer_id: string (nullable = true)\n",
      " |-- category: string (nullable = true)\n",
      " |-- item: string (nullable = true)\n",
      " |-- price_per_unit: double (nullable = true)\n",
      " |-- quantity: double (nullable = true)\n",
      " |-- total_spent: double (nullable = true)\n",
      " |-- payment_method: string (nullable = true)\n",
      " |-- location: string (nullable = true)\n",
      " |-- transaction_date: date (nullable = true)\n",
      " |-- discount_applied: boolean (nullable = true)\n",
      "\n",
      "+--------------+-----------+-------------+------------+--------------+--------+-----------+--------------+--------+----------------+----------------+\n",
      "|transaction_id|customer_id|     category|        item|price_per_unit|quantity|total_spent|payment_method|location|transaction_date|discount_applied|\n",
      "+--------------+-----------+-------------+------------+--------------+--------+-----------+--------------+--------+----------------+----------------+\n",
      "|   TXN_1110407|    CUST_25|     Butchers| Item_24_BUT|          39.5|     7.0|      276.5|Digital Wallet|In-store|      2022-10-21|            NULL|\n",
      "|   TXN_5846723|    CUST_05|   Patisserie| Item_10_PAT|          18.5|     3.0|       55.5|          Cash|In-store|      2024-01-28|           false|\n",
      "|   TXN_5426614|    CUST_19|Milk Products|Item_15_MILK|          26.0|     7.0|      182.0|Digital Wallet|  Online|      2022-08-06|            NULL|\n",
      "|   TXN_8172094|    CUST_21|   Patisserie|  Item_6_PAT|          12.5|     8.0|      100.0|Digital Wallet|In-store|      2022-03-05|           false|\n",
      "|   TXN_4126221|    CUST_03|    Furniture|  Item_2_FUR|           6.5|     1.0|        6.5|          Cash|  Online|      2023-07-03|            NULL|\n",
      "+--------------+-----------+-------------+------------+--------------+--------+-----------+--------------+--------+----------------+----------------+\n",
      "only showing top 5 rows\n"
     ]
    }
   ],
   "execution_count": 6
  },
  {
   "metadata": {},
   "cell_type": "markdown",
   "source": "### Преобразование типов",
   "id": "d6ff7156e254fd1d"
  },
  {
   "metadata": {
    "ExecuteTime": {
     "end_time": "2025-08-01T09:37:28.629379Z",
     "start_time": "2025-08-01T09:37:28.366076Z"
    }
   },
   "cell_type": "code",
   "source": [
    "# Строковые столбцы\n",
    "string_cols = [\n",
    "    \"transaction_id\", \"customer_id\", \"category\",\n",
    "    \"item\", \"payment_method\", \"location\"\n",
    "]\n",
    "df_clean = sales_df\n",
    "for c in string_cols:\n",
    "    df_clean = df_clean.withColumn(\n",
    "        c,\n",
    "        F.when(\n",
    "            F.lower(F.trim(F.col(c))).isin(\"\", \"null\", \"na\", \"none\"),\n",
    "            F.lit(None)\n",
    "        ).otherwise(F.col(c))\n",
    "    )\n",
    "\n",
    "# Числовые столбцы\n",
    "float_cols = [\"price_per_unit\", \"quantity\", \"total_spent\"]\n",
    "for c in float_cols:\n",
    "    df_clean = df_clean.withColumn(c, F.col(c).cast(\"double\"))\n",
    "\n",
    "# Дата\n",
    "df_clean = df_clean.withColumn(\n",
    "    \"transaction_date\",\n",
    "    F.to_date(F.col(\"transaction_date\"), \"yyyy-MM-dd\")\n",
    ")\n",
    "\n",
    "# Логический признак\n",
    "df_clean = df_clean.withColumn(\n",
    "    \"discount_applied\",\n",
    "    F.col(\"discount_applied\").cast(\"boolean\")\n",
    ")"
   ],
   "id": "e7d430ec603df797",
   "outputs": [],
   "execution_count": 7
  },
  {
   "metadata": {
    "ExecuteTime": {
     "end_time": "2025-08-01T09:37:28.641574Z",
     "start_time": "2025-08-01T09:37:28.637574Z"
    }
   },
   "cell_type": "code",
   "source": [
    "# Функция проверки некорректных значений\n",
    "def check_invalid_values(df):\n",
    "    # Проверяем количество null значений в каждом столбце\n",
    "    print(\"\\nКоличество null значений по столбцам:\")\n",
    "    null_counts = []\n",
    "    for col_name in df.columns:\n",
    "        null_count = df.filter(col(col_name).isNull()).count()\n",
    "        null_counts.append((col_name, null_count))\n",
    "    \n",
    "    for col_name, count in null_counts:\n",
    "        print(f\"{col_name}: {count}\")\n",
    "    \n",
    "    # Дополнительная проверка на некорректные значения в числовых столбцах\n",
    "    print(\"\\nПроверка на NaN в числовых столбцах:\")\n",
    "    for col_name in ['price_per_unit', 'quantity', 'total_spent']:\n",
    "        nan_count = df.filter(isnan(col(col_name))).count()\n",
    "        print(f\"{col_name} NaN count: {nan_count}\")"
   ],
   "id": "358fbd86e7a45ae6",
   "outputs": [],
   "execution_count": 8
  },
  {
   "metadata": {
    "ExecuteTime": {
     "end_time": "2025-08-01T09:37:31.647392Z",
     "start_time": "2025-08-01T09:37:28.648101Z"
    }
   },
   "cell_type": "code",
   "source": "check_invalid_values(df_clean)",
   "id": "9bfc0b24ddc052fe",
   "outputs": [
    {
     "name": "stdout",
     "output_type": "stream",
     "text": [
      "\n",
      "Количество null значений по столбцам:\n",
      "transaction_id: 0\n",
      "customer_id: 0\n",
      "category: 0\n",
      "item: 1213\n",
      "price_per_unit: 609\n",
      "quantity: 604\n",
      "total_spent: 604\n",
      "payment_method: 0\n",
      "location: 0\n",
      "transaction_date: 0\n",
      "discount_applied: 4199\n",
      "\n",
      "Проверка на NaN в числовых столбцах:\n",
      "price_per_unit NaN count: 0\n",
      "quantity NaN count: 0\n",
      "total_spent NaN count: 0\n"
     ]
    }
   ],
   "execution_count": 9
  },
  {
   "metadata": {
    "ExecuteTime": {
     "end_time": "2025-08-01T09:37:31.657454Z",
     "start_time": "2025-08-01T09:37:31.654570Z"
    }
   },
   "cell_type": "code",
   "source": [
    "# Сохраняем очищенный DataFrame (заменяем исходный)\n",
    "sales_df = df_clean"
   ],
   "id": "ff8fc409f5a8ac43",
   "outputs": [],
   "execution_count": 10
  },
  {
   "metadata": {
    "ExecuteTime": {
     "end_time": "2025-08-01T09:37:31.818608Z",
     "start_time": "2025-08-01T09:37:31.664607Z"
    }
   },
   "cell_type": "code",
   "source": [
    "# Выводим схему и случайные 5 строк после преобразования типов\n",
    "sales_df.printSchema()\n",
    "sales_df.sample(withReplacement=False, fraction=0.01).show(5)"
   ],
   "id": "69b63c4a7d9494be",
   "outputs": [
    {
     "name": "stdout",
     "output_type": "stream",
     "text": [
      "root\n",
      " |-- transaction_id: string (nullable = true)\n",
      " |-- customer_id: string (nullable = true)\n",
      " |-- category: string (nullable = true)\n",
      " |-- item: string (nullable = true)\n",
      " |-- price_per_unit: double (nullable = true)\n",
      " |-- quantity: double (nullable = true)\n",
      " |-- total_spent: double (nullable = true)\n",
      " |-- payment_method: string (nullable = true)\n",
      " |-- location: string (nullable = true)\n",
      " |-- transaction_date: date (nullable = true)\n",
      " |-- discount_applied: boolean (nullable = true)\n",
      "\n",
      "+--------------+-----------+--------------------+-----------+--------------+--------+-----------+--------------+--------+----------------+----------------+\n",
      "|transaction_id|customer_id|            category|       item|price_per_unit|quantity|total_spent|payment_method|location|transaction_date|discount_applied|\n",
      "+--------------+-----------+--------------------+-----------+--------------+--------+-----------+--------------+--------+----------------+----------------+\n",
      "|   TXN_9619859|    CUST_01|            Butchers|Item_21_BUT|          35.0|     4.0|      140.0|          Cash|In-store|      2024-04-05|           false|\n",
      "|   TXN_3187729|    CUST_18|Electric househol...|Item_25_EHE|          41.0|     9.0|      369.0|Digital Wallet|In-store|      2024-06-25|            NULL|\n",
      "|   TXN_6923046|    CUST_11|            Butchers|Item_12_BUT|          21.5|     1.0|       21.5|   Credit Card|  Online|      2023-08-22|           false|\n",
      "|   TXN_2771813|    CUST_17|Electric househol...|       NULL|          41.0|    NULL|       NULL|Digital Wallet|  Online|      2022-06-10|            NULL|\n",
      "|   TXN_3795673|    CUST_14|            Butchers| Item_5_BUT|          11.0|     7.0|       77.0|          Cash|In-store|      2024-02-02|            NULL|\n",
      "+--------------+-----------+--------------------+-----------+--------------+--------+-----------+--------------+--------+----------------+----------------+\n",
      "only showing top 5 rows\n"
     ]
    }
   ],
   "execution_count": 11
  },
  {
   "metadata": {},
   "cell_type": "markdown",
   "source": "## 2. Очистка и валидация данных",
   "id": "437bda6d5419bbcf"
  },
  {
   "metadata": {},
   "cell_type": "markdown",
   "source": "### Восстановление отсутствующих `item`",
   "id": "b68d725e39c6eda4"
  },
  {
   "metadata": {
    "ExecuteTime": {
     "end_time": "2025-08-01T09:37:31.856353Z",
     "start_time": "2025-08-01T09:37:31.826356Z"
    }
   },
   "cell_type": "code",
   "source": [
    "# Создаем справочник товаров в отдельный DataFrame с \"category\", \"item\", \"price_per_unit\".\n",
    "items_ref = (\n",
    "    sales_df\n",
    "    .filter(F.col(\"item\").isNotNull())         # только строки, где item задан\n",
    "    .groupBy(\"category\", \"price_per_unit\")     # ключ: категория + цена\n",
    "    .agg(F.first(\"item\").alias(\"item_ref\"))    # берём первый встретившийся товар\n",
    ")"
   ],
   "id": "af3c600b725d45f4",
   "outputs": [],
   "execution_count": 12
  },
  {
   "metadata": {
    "ExecuteTime": {
     "end_time": "2025-08-01T09:37:31.927194Z",
     "start_time": "2025-08-01T09:37:31.865891Z"
    }
   },
   "cell_type": "code",
   "source": [
    "# Заполняем пропуски\n",
    "df_filled = (\n",
    "    sales_df\n",
    "    .join(items_ref, on=[\"category\", \"price_per_unit\"], how=\"left\")\n",
    "    .withColumn(\"item\", F.coalesce(\"item\", \"item_ref\"))  # если item пуст – берём из справочника\n",
    "    .drop(\"item_ref\")\n",
    ")"
   ],
   "id": "850ae6b50ea52ef4",
   "outputs": [],
   "execution_count": 13
  },
  {
   "metadata": {
    "ExecuteTime": {
     "end_time": "2025-08-01T09:37:33.051844Z",
     "start_time": "2025-08-01T09:37:31.934600Z"
    }
   },
   "cell_type": "code",
   "source": [
    "# Выводим 20 строк, демонстрирующих восстановленные значения\n",
    "orig = df_clean.alias(\"o\")\n",
    "filled = df_filled.alias(\"f\")\n",
    "(\n",
    "    orig.join(filled, on=\"transaction_id\")\n",
    "        .where(F.col(\"o.item\").isNull() & F.col(\"f.item\").isNotNull())\n",
    "        .select(\n",
    "            \"transaction_id\",\n",
    "            F.col(\"o.category\").alias(\"category\"),\n",
    "            F.col(\"o.price_per_unit\").alias(\"price_per_unit\"),\n",
    "            F.col(\"f.item\").alias(\"restored_item\")\n",
    "        )\n",
    "        .show(20, truncate=False)\n",
    ")"
   ],
   "id": "857b2fb1dac8c968",
   "outputs": [
    {
     "name": "stdout",
     "output_type": "stream",
     "text": [
      "+--------------+----------------------------------+--------------+-------------+\n",
      "|transaction_id|category                          |price_per_unit|restored_item|\n",
      "+--------------+----------------------------------+--------------+-------------+\n",
      "|TXN_1372952   |Furniture                         |33.5          |Item_20_FUR  |\n",
      "|TXN_1809665   |Beverages                         |24.5          |Item_14_BEV  |\n",
      "|TXN_4206593   |Furniture                         |35.0          |Item_21_FUR  |\n",
      "|TXN_3481599   |Furniture                         |39.5          |Item_24_FUR  |\n",
      "|TXN_1621497   |Patisserie                        |23.0          |Item_13_PAT  |\n",
      "|TXN_4532214   |Patisserie                        |15.5          |Item_8_PAT   |\n",
      "|TXN_5419965   |Computers and electric accessories|20.0          |Item_11_CEA  |\n",
      "|TXN_8210621   |Beverages                         |39.5          |Item_24_BEV  |\n",
      "|TXN_8586300   |Computers and electric accessories|27.5          |Item_16_CEA  |\n",
      "|TXN_1154680   |Furniture                         |35.0          |Item_21_FUR  |\n",
      "|TXN_9177662   |Furniture                         |24.5          |Item_14_FUR  |\n",
      "|TXN_1175914   |Butchers                          |23.0          |Item_13_BUT  |\n",
      "|TXN_9610555   |Beverages                         |6.5           |Item_2_BEV   |\n",
      "|TXN_1811555   |Food                              |30.5          |Item_18_FOOD |\n",
      "|TXN_9246169   |Electric household essentials     |38.0          |Item_23_EHE  |\n",
      "|TXN_9410785   |Furniture                         |12.5          |Item_6_FUR   |\n",
      "|TXN_9130896   |Food                              |20.0          |Item_11_FOOD |\n",
      "|TXN_3096445   |Computers and electric accessories|32.0          |Item_19_CEA  |\n",
      "|TXN_8838958   |Computers and electric accessories|15.5          |Item_8_CEA   |\n",
      "|TXN_4351153   |Food                              |17.0          |Item_9_FOOD  |\n",
      "+--------------+----------------------------------+--------------+-------------+\n",
      "only showing top 20 rows\n"
     ]
    }
   ],
   "execution_count": 14
  },
  {
   "metadata": {
    "ExecuteTime": {
     "end_time": "2025-08-01T09:37:35.065124Z",
     "start_time": "2025-08-01T09:37:33.107367Z"
    }
   },
   "cell_type": "code",
   "source": [
    "# Проверяем статистику\n",
    "sales_df = df_filled\n",
    "check_invalid_values(sales_df)"
   ],
   "id": "4dcd022b78ba4666",
   "outputs": [
    {
     "name": "stdout",
     "output_type": "stream",
     "text": [
      "\n",
      "Количество null значений по столбцам:\n",
      "category: 0\n",
      "price_per_unit: 609\n",
      "transaction_id: 0\n",
      "customer_id: 0\n",
      "item: 609\n",
      "quantity: 604\n",
      "total_spent: 604\n",
      "payment_method: 0\n",
      "location: 0\n",
      "transaction_date: 0\n",
      "discount_applied: 4199\n",
      "\n",
      "Проверка на NaN в числовых столбцах:\n",
      "price_per_unit NaN count: 0\n",
      "quantity NaN count: 0\n",
      "total_spent NaN count: 0\n"
     ]
    }
   ],
   "execution_count": 15
  },
  {
   "metadata": {},
   "cell_type": "markdown",
   "source": "Количество пропущенных значений в столбце `item` немного уменьшилось: 1213 -> 609",
   "id": "7a95ad5a006e3181"
  },
  {
   "metadata": {},
   "cell_type": "markdown",
   "source": "### Восстановление `total_spent`",
   "id": "3dcfa3245a14e3c6"
  },
  {
   "metadata": {
    "ExecuteTime": {
     "end_time": "2025-08-01T09:37:35.450480Z",
     "start_time": "2025-08-01T09:37:35.072049Z"
    }
   },
   "cell_type": "code",
   "source": [
    "# Проверим возможность восстановления \n",
    "sales_df.filter(\n",
    "    F.col(\"total_spent\").isNull() &\n",
    "    F.col(\"quantity\").isNotNull() &\n",
    "    F.col(\"price_per_unit\").isNotNull()\n",
    ").show()"
   ],
   "id": "c21f3b789482218d",
   "outputs": [
    {
     "name": "stdout",
     "output_type": "stream",
     "text": [
      "+--------+--------------+--------------+-----------+----+--------+-----------+--------------+--------+----------------+----------------+\n",
      "|category|price_per_unit|transaction_id|customer_id|item|quantity|total_spent|payment_method|location|transaction_date|discount_applied|\n",
      "+--------+--------------+--------------+-----------+----+--------+-----------+--------------+--------+----------------+----------------+\n",
      "+--------+--------------+--------------+-----------+----+--------+-----------+--------------+--------+----------------+----------------+\n",
      "\n"
     ]
    }
   ],
   "execution_count": 16
  },
  {
   "metadata": {},
   "cell_type": "markdown",
   "source": "Очевидно смысла заморачиваться нет, т.к. у нас нет строк, где `total_spent` не задан, но есть и `quantity` и `price_per_unit`.",
   "id": "9bad7d997cce9d11"
  },
  {
   "metadata": {},
   "cell_type": "markdown",
   "source": "### Заполнение отсутствующих `quantity` и `price_per_unit`",
   "id": "69550156d3b0d1c3"
  },
  {
   "metadata": {
    "ExecuteTime": {
     "end_time": "2025-08-01T09:37:36.032932Z",
     "start_time": "2025-08-01T09:37:35.503889Z"
    }
   },
   "cell_type": "code",
   "source": [
    "# Восстанавливаем `quantity`, когда\n",
    "# - quantity IS NULL\n",
    "# - price_per_unit и total_spent заданы\n",
    "\n",
    "fill_qty_cond = (\n",
    "    F.col(\"quantity\").isNull() &\n",
    "    F.col(\"price_per_unit\").isNotNull() &\n",
    "    F.col(\"total_spent\").isNotNull()\n",
    ")\n",
    "\n",
    "sales_with_qty = sales_df.withColumn(\n",
    "    \"quantity\",\n",
    "    F.when(\n",
    "        fill_qty_cond,\n",
    "        F.round(F.col(\"total_spent\") / F.col(\"price_per_unit\"), 0)    # округляем до целого\n",
    "    ).otherwise(F.col(\"quantity\"))\n",
    ")\n",
    "\n",
    "# ----------------------------------------------------------------------\n",
    "\n",
    "# Восстанавливаем `price_per_unit`, когда\n",
    "# - price_per_unit IS NULL\n",
    "# - quantity задано и не равно 0\n",
    "# - total_spent задано\n",
    "\n",
    "fill_price_cond = (\n",
    "    F.col(\"price_per_unit\").isNull() &\n",
    "    F.col(\"quantity\").isNotNull() &\n",
    "    (F.col(\"quantity\") != 0) &\n",
    "    F.col(\"total_spent\").isNotNull()\n",
    ")\n",
    "\n",
    "sales_filled = sales_with_qty.withColumn(\n",
    "    \"price_per_unit\",\n",
    "    F.when(\n",
    "        fill_price_cond,\n",
    "        F.round(F.col(\"total_spent\") / F.col(\"quantity\"), 2)\n",
    "    ).otherwise(F.col(\"price_per_unit\"))\n",
    ")\n",
    "\n",
    "# ----------------------------------------------------------------------\n",
    "\n",
    "print(\"Восстановленные quantity\")\n",
    "(\n",
    "    sales_df.alias(\"old\")\n",
    "    .join(sales_with_qty.alias(\"new\"), on=\"transaction_id\")\n",
    "    .where(F.col(\"old.quantity\").isNull() & F.col(\"new.quantity\").isNotNull())\n",
    "    .select(\n",
    "        \"transaction_id\",\n",
    "        F.col(\"new.price_per_unit\"),\n",
    "        F.col(\"new.total_spent\"),\n",
    "        F.col(\"new.quantity\").alias(\"restored_quantity\")\n",
    "    )\n",
    "    .show(20, truncate=False)\n",
    ")\n",
    "\n",
    "print(\"Восстановленные price_per_unit\")\n",
    "(\n",
    "    sales_with_qty.alias(\"old\")\n",
    "    .join(sales_filled.alias(\"new\"), on=\"transaction_id\")\n",
    "    .where(F.col(\"old.price_per_unit\").isNull() & F.col(\"new.price_per_unit\").isNotNull())\n",
    "    .select(\n",
    "        \"transaction_id\",\n",
    "        F.col(\"new.quantity\"),\n",
    "        F.col(\"new.total_spent\"),\n",
    "        F.col(\"new.price_per_unit\").alias(\"restored_price_per_unit\")\n",
    "    )\n",
    "    .show(20, truncate=False)\n",
    ")"
   ],
   "id": "8087d3ebb20d0628",
   "outputs": [
    {
     "name": "stdout",
     "output_type": "stream",
     "text": [
      "Восстановленные quantity\n",
      "+--------------+--------------+-----------+-----------------+\n",
      "|transaction_id|price_per_unit|total_spent|restored_quantity|\n",
      "+--------------+--------------+-----------+-----------------+\n",
      "+--------------+--------------+-----------+-----------------+\n",
      "\n",
      "Восстановленные price_per_unit\n",
      "+--------------+--------+-----------+-----------------------+\n",
      "|transaction_id|quantity|total_spent|restored_price_per_unit|\n",
      "+--------------+--------+-----------+-----------------------+\n",
      "|TXN_7482416   |10.0    |200.0      |20.0                   |\n",
      "|TXN_5422631   |8.0     |52.0       |6.5                    |\n",
      "|TXN_9634894   |10.0    |275.0      |27.5                   |\n",
      "|TXN_8685338   |3.0     |105.0      |35.0                   |\n",
      "|TXN_1543244   |8.0     |196.0      |24.5                   |\n",
      "|TXN_4608122   |10.0    |275.0      |27.5                   |\n",
      "|TXN_3822751   |9.0     |126.0      |14.0                   |\n",
      "|TXN_7804271   |8.0     |40.0       |5.0                    |\n",
      "|TXN_3433195   |7.0     |150.5      |21.5                   |\n",
      "|TXN_7571093   |9.0     |99.0       |11.0                   |\n",
      "|TXN_9469962   |6.0     |48.0       |8.0                    |\n",
      "|TXN_5911306   |8.0     |268.0      |33.5                   |\n",
      "|TXN_7043807   |7.0     |182.0      |26.0                   |\n",
      "|TXN_2218629   |3.0     |96.0       |32.0                   |\n",
      "|TXN_8348586   |8.0     |220.0      |27.5                   |\n",
      "|TXN_2687566   |1.0     |27.5       |27.5                   |\n",
      "|TXN_5361643   |2.0     |46.0       |23.0                   |\n",
      "|TXN_4897743   |9.0     |193.5      |21.5                   |\n",
      "|TXN_1565398   |8.0     |148.0      |18.5                   |\n",
      "|TXN_9917843   |10.0    |95.0       |9.5                    |\n",
      "+--------------+--------+-----------+-----------------------+\n",
      "only showing top 20 rows\n"
     ]
    }
   ],
   "execution_count": 17
  },
  {
   "metadata": {
    "ExecuteTime": {
     "end_time": "2025-08-01T09:37:37.683997Z",
     "start_time": "2025-08-01T09:37:36.053442Z"
    }
   },
   "cell_type": "code",
   "source": [
    "# Проверяем статистику\n",
    "sales_df = sales_filled\n",
    "check_invalid_values(sales_df)"
   ],
   "id": "7417ece40093c344",
   "outputs": [
    {
     "name": "stdout",
     "output_type": "stream",
     "text": [
      "\n",
      "Количество null значений по столбцам:\n",
      "category: 0\n",
      "price_per_unit: 0\n",
      "transaction_id: 0\n",
      "customer_id: 0\n",
      "item: 609\n",
      "quantity: 604\n",
      "total_spent: 604\n",
      "payment_method: 0\n",
      "location: 0\n",
      "transaction_date: 0\n",
      "discount_applied: 4199\n",
      "\n",
      "Проверка на NaN в числовых столбцах:\n",
      "price_per_unit NaN count: 0\n",
      "quantity NaN count: 0\n",
      "total_spent NaN count: 0\n"
     ]
    }
   ],
   "execution_count": 18
  },
  {
   "metadata": {},
   "cell_type": "markdown",
   "source": "Количество пропущенных значений в `price_per_unit` уменьшилось до 0. Количество пропущенных значений в `quantity` осталось равным количеству пропущенных значений в `total_spent`, что очевидно свидетельствует о невозможности восстановления этих значений.",
   "id": "a818ebb331766dd5"
  },
  {
   "metadata": {},
   "cell_type": "markdown",
   "source": "### Удаление строк с пропущенными значениями",
   "id": "24f99472cb99ba4f"
  },
  {
   "metadata": {
    "ExecuteTime": {
     "end_time": "2025-08-01T09:37:38.177005Z",
     "start_time": "2025-08-01T09:37:37.705118Z"
    }
   },
   "cell_type": "code",
   "source": [
    "# Посчитать текущее количество строк\n",
    "current_row_count = sales_df.count()\n",
    "\n",
    "# Удаляем строки с пропущенными значениями в критически важных столбцах\n",
    "sales_df = sales_df.dropna(subset=[\"price_per_unit\", \"total_spent\", \"quantity\", \"item\"])\n",
    "\n",
    "# Проверяем количество строк после удаления\n",
    "new_row_count = sales_df.count()\n",
    "\n",
    "# Посчитаем долю удаленных строк\n",
    "deleted_row_count = current_row_count - new_row_count\n",
    "deleted_row_fraction = deleted_row_count / current_row_count\n",
    "print(f\"Удалено строк: {deleted_row_count} ({deleted_row_fraction:.2%})\")"
   ],
   "id": "6ab2ad257cd9257a",
   "outputs": [
    {
     "name": "stdout",
     "output_type": "stream",
     "text": [
      "Удалено строк: 1213 (9.65%)\n"
     ]
    }
   ],
   "execution_count": 19
  },
  {
   "metadata": {
    "ExecuteTime": {
     "end_time": "2025-08-01T09:37:42.946067Z",
     "start_time": "2025-08-01T09:37:38.197870Z"
    }
   },
   "cell_type": "code",
   "source": [
    "# Проверяем статистику после удаления строк\n",
    "check_invalid_values(sales_df)"
   ],
   "id": "b624b4a752031e07",
   "outputs": [
    {
     "name": "stdout",
     "output_type": "stream",
     "text": [
      "\n",
      "Количество null значений по столбцам:\n",
      "category: 0\n",
      "price_per_unit: 0\n",
      "transaction_id: 0\n",
      "customer_id: 0\n",
      "item: 0\n",
      "quantity: 0\n",
      "total_spent: 0\n",
      "payment_method: 0\n",
      "location: 0\n",
      "transaction_date: 0\n",
      "discount_applied: 3783\n",
      "\n",
      "Проверка на NaN в числовых столбцах:\n",
      "price_per_unit NaN count: 0\n",
      "quantity NaN count: 0\n",
      "total_spent NaN count: 0\n"
     ]
    }
   ],
   "execution_count": 20
  },
  {
   "metadata": {},
   "cell_type": "markdown",
   "source": "Очищено всё кроме `discount_applied`, который не является критически важным для анализа. Количество строк уменьшилось на 9.65% от общего числа.",
   "id": "18a2d61030e62c7a"
  },
  {
   "metadata": {},
   "cell_type": "markdown",
   "source": "## 3. Разведочный анализ данных",
   "id": "9c27158b8bd84432"
  },
  {
   "metadata": {},
   "cell_type": "markdown",
   "source": "### Самые популярные категории товаров",
   "id": "7a6c1bdd54bfbf7d"
  },
  {
   "metadata": {
    "ExecuteTime": {
     "end_time": "2025-08-01T09:37:43.545189Z",
     "start_time": "2025-08-01T09:37:42.967178Z"
    }
   },
   "cell_type": "code",
   "source": [
    "# Рассчитайте общее количество проданных единиц товара для каждой категории\n",
    "category_sales = (\n",
    "    sales_df.groupBy(\"category\")\n",
    "    .agg(F.sum(\"quantity\").alias(\"total_quantity\"))\n",
    "    .orderBy(F.desc(\"total_quantity\"))\n",
    ")\n",
    "\n",
    "# Выводим топ-5 категорий по количеству проданных единиц\n",
    "category_sales.show(5, truncate=False)"
   ],
   "id": "b89e34439bde88d7",
   "outputs": [
    {
     "name": "stdout",
     "output_type": "stream",
     "text": [
      "+-----------------------------+--------------+\n",
      "|category                     |total_quantity|\n",
      "+-----------------------------+--------------+\n",
      "|Furniture                    |8083.0        |\n",
      "|Beverages                    |7974.0        |\n",
      "|Food                         |7925.0        |\n",
      "|Electric household essentials|7897.0        |\n",
      "|Milk Products                |7889.0        |\n",
      "+-----------------------------+--------------+\n",
      "only showing top 5 rows\n"
     ]
    }
   ],
   "execution_count": 21
  },
  {
   "metadata": {},
   "cell_type": "markdown",
   "source": "### Анализ среднего чека",
   "id": "51df9b6170f3515c"
  },
  {
   "metadata": {
    "ExecuteTime": {
     "end_time": "2025-08-01T09:37:44.069324Z",
     "start_time": "2025-08-01T09:37:43.587786Z"
    }
   },
   "cell_type": "code",
   "source": [
    "# Рассчитайте среднее значение `total_spent` для каждого метода оплаты\n",
    "avg_spent_by_payment = (\n",
    "    sales_df.groupBy(\"payment_method\")\n",
    "    .agg(F.avg(\"total_spent\").alias(\"avg_total_spent\"))\n",
    "    .orderBy(F.desc(\"avg_total_spent\"))\n",
    ")\n",
    "\n",
    "# Округлите до двух знаков после запятой.\n",
    "avg_spent_by_payment = avg_spent_by_payment.withColumn(\n",
    "    \"avg_total_spent\", F.round(F.col(\"avg_total_spent\"), 2)\n",
    ")\n",
    "\n",
    "# Выводим результаты\n",
    "avg_spent_by_payment.show(truncate=False)"
   ],
   "id": "c9798f06ad3a6756",
   "outputs": [
    {
     "name": "stdout",
     "output_type": "stream",
     "text": [
      "+--------------+---------------+\n",
      "|payment_method|avg_total_spent|\n",
      "+--------------+---------------+\n",
      "|Cash          |131.14         |\n",
      "|Credit Card   |129.03         |\n",
      "|Digital Wallet|128.68         |\n",
      "+--------------+---------------+\n",
      "\n"
     ]
    }
   ],
   "execution_count": 22
  },
  {
   "metadata": {
    "ExecuteTime": {
     "end_time": "2025-08-01T09:37:44.479600Z",
     "start_time": "2025-08-01T09:37:44.089567Z"
    }
   },
   "cell_type": "code",
   "source": [
    "# Рассчитайте среднее значение `total_spent` для каждой места, где прошла оплата. \n",
    "avg_spent_by_location = (\n",
    "    sales_df.groupBy(\"location\")\n",
    "    .agg(F.avg(\"total_spent\").alias(\"avg_total_spent\"))\n",
    "    .orderBy(F.desc(\"avg_total_spent\"))\n",
    ")\n",
    "\n",
    "# Округлите до двух знаков после запятой.\n",
    "avg_spent_by_location = avg_spent_by_location.withColumn(\n",
    "    \"avg_total_spent\", F.round(F.col(\"avg_total_spent\"), 2)\n",
    ")\n",
    "\n",
    "# Выводим результаты\n",
    "avg_spent_by_location.show(truncate=False)"
   ],
   "id": "d55f966885d2186c",
   "outputs": [
    {
     "name": "stdout",
     "output_type": "stream",
     "text": [
      "+--------+---------------+\n",
      "|location|avg_total_spent|\n",
      "+--------+---------------+\n",
      "|Online  |130.45         |\n",
      "|In-store|128.82         |\n",
      "+--------+---------------+\n",
      "\n"
     ]
    }
   ],
   "execution_count": 23
  },
  {
   "metadata": {},
   "cell_type": "markdown",
   "source": "## 4. Генерация признаков",
   "id": "b0f8321d7a48a6bf"
  },
  {
   "metadata": {},
   "cell_type": "markdown",
   "source": "### Временные признаки",
   "id": "826ca1a6057740cf"
  },
  {
   "metadata": {
    "ExecuteTime": {
     "end_time": "2025-08-01T09:37:45.031403Z",
     "start_time": "2025-08-01T09:37:44.539983Z"
    }
   },
   "cell_type": "code",
   "source": [
    "# Добавьте два новых столбца на основе `transaction_date`: `day_of_week` и `transaction_month`\n",
    "sales_df = sales_df.withColumn(\n",
    "    \"day_of_week\", F.date_format(F.col(\"transaction_date\"), \"EEEE\")\n",
    ").withColumn(\n",
    "    \"transaction_month\", F.date_format(F.col(\"transaction_date\"), \"MMMM\")\n",
    ").withColumn(\n",
    "    \"weekday_num\", F.dayofweek(\"transaction_date\")\n",
    ").withColumn(\n",
    "    \"month_num\", F.month(\"transaction_date\"))\n",
    "\n",
    "# Сместим по православному первый день недели на понедельник\n",
    "sales_df = sales_df.withColumn(\n",
    "    \"weekday_num_monday_first\",\n",
    "    F.when(F.col(\"weekday_num\") == 1, 7).otherwise(F.col(\"weekday_num\") - 1)\n",
    ")\n",
    "\n",
    "# Переименовываем столбец weekday_num_monday_first в weekday_num\n",
    "sales_df = (\n",
    "    sales_df\n",
    "    .drop(\"weekday_num\")\n",
    "    .withColumnRenamed(\"weekday_num_monday_first\", \"weekday_num\")\n",
    ")\n",
    "\n",
    "# Выводим схему и случайные 5 строк после добавления временных признаков\n",
    "sales_df.printSchema()\n",
    "sales_df.sample(withReplacement=False, fraction=0.01).show(5)"
   ],
   "id": "ced41278efb4e84d",
   "outputs": [
    {
     "name": "stdout",
     "output_type": "stream",
     "text": [
      "root\n",
      " |-- category: string (nullable = true)\n",
      " |-- price_per_unit: double (nullable = true)\n",
      " |-- transaction_id: string (nullable = true)\n",
      " |-- customer_id: string (nullable = true)\n",
      " |-- item: string (nullable = true)\n",
      " |-- quantity: double (nullable = true)\n",
      " |-- total_spent: double (nullable = true)\n",
      " |-- payment_method: string (nullable = true)\n",
      " |-- location: string (nullable = true)\n",
      " |-- transaction_date: date (nullable = true)\n",
      " |-- discount_applied: boolean (nullable = true)\n",
      " |-- day_of_week: string (nullable = true)\n",
      " |-- transaction_month: string (nullable = true)\n",
      " |-- month_num: integer (nullable = true)\n",
      " |-- weekday_num: integer (nullable = true)\n",
      "\n",
      "+--------------------+--------------+--------------+-----------+------------+--------+-----------+--------------+--------+----------------+----------------+-----------+-----------------+---------+-----------+\n",
      "|            category|price_per_unit|transaction_id|customer_id|        item|quantity|total_spent|payment_method|location|transaction_date|discount_applied|day_of_week|transaction_month|month_num|weekday_num|\n",
      "+--------------------+--------------+--------------+-----------+------------+--------+-----------+--------------+--------+----------------+----------------+-----------+-----------------+---------+-----------+\n",
      "|           Beverages|          14.0|   TXN_9939063|    CUST_14|  Item_7_BEV|     9.0|      126.0|Digital Wallet|In-store|      2024-01-14|            NULL|     Sunday|          January|        1|          7|\n",
      "|Electric househol...|           5.0|   TXN_8960682|    CUST_25|  Item_1_EHE|     2.0|       10.0|          Cash|  Online|      2023-06-10|           false|   Saturday|             June|        6|          6|\n",
      "|       Milk Products|          15.5|   TXN_3841425|    CUST_24| Item_8_MILK|     6.0|       93.0|   Credit Card|In-store|      2024-10-01|            NULL|    Tuesday|          October|       10|          2|\n",
      "|            Butchers|          11.0|   TXN_8994966|    CUST_14|  Item_5_BUT|     5.0|       55.0|          Cash|  Online|      2024-12-25|            true|  Wednesday|         December|       12|          3|\n",
      "|       Milk Products|          23.0|   TXN_8755760|    CUST_10|Item_13_MILK|     9.0|      207.0|Digital Wallet|In-store|      2024-10-22|            true|    Tuesday|          October|       10|          2|\n",
      "+--------------------+--------------+--------------+-----------+------------+--------+-----------+--------------+--------+----------------+----------------+-----------+-----------------+---------+-----------+\n",
      "only showing top 5 rows\n"
     ]
    }
   ],
   "execution_count": 24
  },
  {
   "metadata": {},
   "cell_type": "markdown",
   "source": "### Продажи по дням недели",
   "id": "1260bb3bd3dbf284"
  },
  {
   "metadata": {
    "ExecuteTime": {
     "end_time": "2025-08-01T09:37:45.655431Z",
     "start_time": "2025-08-01T09:37:45.058827Z"
    }
   },
   "cell_type": "code",
   "source": [
    "# Рассчитайте среднюю сумму продаж (`total_spent`) для каждого дня недели.\n",
    "avg_spent_by_day = (\n",
    "    sales_df.groupBy(\"day_of_week\", \"weekday_num\")\n",
    "    .agg(F.avg(\"total_spent\").alias(\"avg_total_spent\"))\n",
    "    .orderBy(\"weekday_num\")\n",
    ")\n",
    "\n",
    "# Выводим результаты\n",
    "avg_spent_by_day.show(truncate=False)"
   ],
   "id": "aa245a3f3c94a45",
   "outputs": [
    {
     "name": "stdout",
     "output_type": "stream",
     "text": [
      "+-----------+-----------+------------------+\n",
      "|day_of_week|weekday_num|avg_total_spent   |\n",
      "+-----------+-----------+------------------+\n",
      "|Monday     |1          |126.08145363408521|\n",
      "|Tuesday    |2          |129.02869619463505|\n",
      "|Wednesday  |3          |126.62033067973056|\n",
      "|Thursday   |4          |129.6309894212819 |\n",
      "|Friday     |5          |134.51823708206686|\n",
      "|Saturday   |6          |131.17064220183485|\n",
      "|Sunday     |7          |130.3134510042605 |\n",
      "+-----------+-----------+------------------+\n",
      "\n"
     ]
    }
   ],
   "execution_count": 25
  },
  {
   "metadata": {},
   "cell_type": "markdown",
   "source": "### Продажи по месяцам",
   "id": "bd91bd1e667be489"
  },
  {
   "metadata": {
    "ExecuteTime": {
     "end_time": "2025-08-01T09:37:46.305077Z",
     "start_time": "2025-08-01T09:37:45.701615Z"
    }
   },
   "cell_type": "code",
   "source": [
    "# Рассчитайте среднюю сумму продаж (`total_spent`) для каждого месяца. Выведите результаты, отсортированные по месяцам.\n",
    "avg_spent_by_month = (\n",
    "    sales_df.groupBy(\"transaction_month\", \"month_num\")\n",
    "    .agg(F.avg(\"total_spent\").alias(\"avg_total_spent\"))\n",
    "    .orderBy(\"month_num\")\n",
    ")\n",
    "\n",
    "# Выводим результаты\n",
    "avg_spent_by_month.show(truncate=False)"
   ],
   "id": "a67dc418ee9d452b",
   "outputs": [
    {
     "name": "stdout",
     "output_type": "stream",
     "text": [
      "+-----------------+---------+------------------+\n",
      "|transaction_month|month_num|avg_total_spent   |\n",
      "+-----------------+---------+------------------+\n",
      "|January          |1        |135.1926530612245 |\n",
      "|February         |2        |129.7631880733945 |\n",
      "|March            |3        |126.93729372937294|\n",
      "|April            |4        |132.00166481687015|\n",
      "|May              |5        |127.4728144989339 |\n",
      "|June             |6        |131.323093220339  |\n",
      "|July             |7        |127.64733059548254|\n",
      "|August           |8        |122.76838235294117|\n",
      "|September        |9        |130.6153846153846 |\n",
      "|October          |10       |128.05379388448472|\n",
      "|November         |11       |130.04082774049218|\n",
      "|December         |12       |132.32119914346896|\n",
      "+-----------------+---------+------------------+\n",
      "\n"
     ]
    }
   ],
   "execution_count": 26
  },
  {
   "metadata": {},
   "cell_type": "markdown",
   "source": "### Признаки клиента",
   "id": "8b72a106ff81869c"
  },
  {
   "metadata": {
    "ExecuteTime": {
     "end_time": "2025-08-01T09:37:46.838424Z",
     "start_time": "2025-08-01T09:37:46.342978Z"
    }
   },
   "cell_type": "code",
   "source": [
    "# Рассчитайте customer_lifetime_value (CLV) для каждого клиента как общую сумму (`total_spent`), потраченную этим клиентом за все транзакции.\n",
    "clv_by_customer = (\n",
    "    sales_df.groupBy(\"customer_id\")\n",
    "    .agg(F.sum(\"total_spent\").alias(\"clv\"))\n",
    "    .orderBy(F.desc(\"clv\"))\n",
    ")\n",
    "\n",
    "# Выведите Топ-10 клиентов по их CLV (customer_id и их CLV)\n",
    "clv_by_customer.show(10, truncate=False)"
   ],
   "id": "a18b4f2469213f8f",
   "outputs": [
    {
     "name": "stdout",
     "output_type": "stream",
     "text": [
      "+-----------+-------+\n",
      "|customer_id|clv    |\n",
      "+-----------+-------+\n",
      "|CUST_24    |64608.0|\n",
      "|CUST_05    |63855.5|\n",
      "|CUST_16    |63185.5|\n",
      "|CUST_13    |63015.5|\n",
      "|CUST_08    |62850.5|\n",
      "|CUST_15    |60749.5|\n",
      "|CUST_10    |60367.5|\n",
      "|CUST_23    |59738.5|\n",
      "|CUST_21    |59639.0|\n",
      "|CUST_02    |59512.5|\n",
      "+-----------+-------+\n",
      "only showing top 10 rows\n"
     ]
    }
   ],
   "execution_count": 27
  }
 ],
 "metadata": {
  "kernelspec": {
   "display_name": "Python 3",
   "language": "python",
   "name": "python3"
  },
  "language_info": {
   "codemirror_mode": {
    "name": "ipython",
    "version": 2
   },
   "file_extension": ".py",
   "mimetype": "text/x-python",
   "name": "python",
   "nbconvert_exporter": "python",
   "pygments_lexer": "ipython2",
   "version": "2.7.6"
  }
 },
 "nbformat": 4,
 "nbformat_minor": 5
}
